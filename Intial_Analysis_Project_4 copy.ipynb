{
 "cells": [
  {
   "cell_type": "code",
   "execution_count": 81,
   "metadata": {},
   "outputs": [],
   "source": [
    "# Importing dependencies\n",
    "\n",
    "from sklearn.ensemble import RandomForestClassifier,GradientBoostingClassifier\n",
    "from sklearn.metrics import accuracy_score,confusion_matrix, classification_report\n",
    "from sklearn.model_selection import train_test_split, cross_val_score, GridSearchCV\n",
    "from sklearn.neighbors import KNeighborsClassifier\n",
    "from sklearn.datasets import make_classification\n",
    "from sklearn.preprocessing import StandardScaler, LabelEncoder\n",
    "from sklearn.naive_bayes import MultinomialNB\n",
    "from sklearn.svm import SVC\n",
    "from sklearn.feature_selection import RFE\n",
    "import pandas as pd\n",
    "import numpy as np\n",
    "import warnings\n",
    "import pickle\n",
    "import os\n",
    "import matplotlib.pyplot as plt\n",
    "import seaborn as sns\n",
    "\n",
    "\n",
    "warnings.filterwarnings('ignore')\n",
    "pd.set_option('display.max_columns', None)"
   ]
  },
  {
   "cell_type": "code",
   "execution_count": 83,
   "metadata": {},
   "outputs": [],
   "source": [
    "# Reading relevant CSV files\n",
    "\n",
    "description= pd.read_csv('archive/description.csv')\n",
    "diets= pd.read_csv('archive/diets.csv')\n",
    "medications= pd.read_csv('archive/medications.csv')\n",
    "precautions= pd.read_csv('archive/precautions_df.csv', index_col= 0)\n",
    "Symptom_severity_df= pd.read_csv('archive/Symptom-severity.csv')\n",
    "sym_des= pd.read_csv('archive/symtoms_df.csv', index_col= 0)\n",
    "df= pd.read_csv('archive/Training.csv')\n",
    "workout=pd.read_csv('archive/workout_df.csv').iloc[:, 2:]\n"
   ]
  },
  {
   "cell_type": "code",
   "execution_count": 84,
   "metadata": {},
   "outputs": [
    {
     "name": "stdout",
     "output_type": "stream",
     "text": [
      "DataFrame 'medications':\n",
      "<class 'pandas.core.frame.DataFrame'>\n",
      "RangeIndex: 41 entries, 0 to 40\n",
      "Data columns (total 2 columns):\n",
      " #   Column      Non-Null Count  Dtype \n",
      "---  ------      --------------  ----- \n",
      " 0   Disease     41 non-null     object\n",
      " 1   Medication  41 non-null     object\n",
      "dtypes: object(2)\n",
      "memory usage: 788.0+ bytes\n",
      "None\n",
      "######################################################\n",
      "DataFrame 'df':\n",
      "<class 'pandas.core.frame.DataFrame'>\n",
      "RangeIndex: 4920 entries, 0 to 4919\n",
      "Columns: 133 entries, itching to prognosis\n",
      "dtypes: int64(132), object(1)\n",
      "memory usage: 5.0+ MB\n",
      "None\n",
      "######################################################\n",
      "DataFrame 'Symptom_severity_df':\n",
      "<class 'pandas.core.frame.DataFrame'>\n",
      "RangeIndex: 133 entries, 0 to 132\n",
      "Data columns (total 2 columns):\n",
      " #   Column   Non-Null Count  Dtype \n",
      "---  ------   --------------  ----- \n",
      " 0   Symptom  133 non-null    object\n",
      " 1   weight   133 non-null    int64 \n",
      "dtypes: int64(1), object(1)\n",
      "memory usage: 2.2+ KB\n",
      "None\n",
      "######################################################\n",
      "DataFrame 'sym_des':\n",
      "<class 'pandas.core.frame.DataFrame'>\n",
      "Index: 4920 entries, 0 to 4919\n",
      "Data columns (total 5 columns):\n",
      " #   Column     Non-Null Count  Dtype \n",
      "---  ------     --------------  ----- \n",
      " 0   Disease    4920 non-null   object\n",
      " 1   Symptom_1  4920 non-null   object\n",
      " 2   Symptom_2  4920 non-null   object\n",
      " 3   Symptom_3  4920 non-null   object\n",
      " 4   Symptom_4  4572 non-null   object\n",
      "dtypes: object(5)\n",
      "memory usage: 230.6+ KB\n",
      "None\n",
      "######################################################\n",
      "DataFrame 'description':\n",
      "<class 'pandas.core.frame.DataFrame'>\n",
      "RangeIndex: 41 entries, 0 to 40\n",
      "Data columns (total 2 columns):\n",
      " #   Column       Non-Null Count  Dtype \n",
      "---  ------       --------------  ----- \n",
      " 0   Disease      41 non-null     object\n",
      " 1   Description  41 non-null     object\n",
      "dtypes: object(2)\n",
      "memory usage: 788.0+ bytes\n",
      "None\n",
      "######################################################\n",
      "DataFrame 'workout':\n",
      "<class 'pandas.core.frame.DataFrame'>\n",
      "RangeIndex: 410 entries, 0 to 409\n",
      "Data columns (total 2 columns):\n",
      " #   Column   Non-Null Count  Dtype \n",
      "---  ------   --------------  ----- \n",
      " 0   disease  410 non-null    object\n",
      " 1   workout  410 non-null    object\n",
      "dtypes: object(2)\n",
      "memory usage: 6.5+ KB\n",
      "None\n",
      "######################################################\n",
      "DataFrame 'diets':\n",
      "<class 'pandas.core.frame.DataFrame'>\n",
      "RangeIndex: 41 entries, 0 to 40\n",
      "Data columns (total 2 columns):\n",
      " #   Column   Non-Null Count  Dtype \n",
      "---  ------   --------------  ----- \n",
      " 0   Disease  41 non-null     object\n",
      " 1   Diet     41 non-null     object\n",
      "dtypes: object(2)\n",
      "memory usage: 788.0+ bytes\n",
      "None\n",
      "######################################################\n",
      "DataFrame 'precautions':\n",
      "<class 'pandas.core.frame.DataFrame'>\n",
      "Index: 41 entries, 0 to 40\n",
      "Data columns (total 5 columns):\n",
      " #   Column        Non-Null Count  Dtype \n",
      "---  ------        --------------  ----- \n",
      " 0   Disease       41 non-null     object\n",
      " 1   Precaution_1  41 non-null     object\n",
      " 2   Precaution_2  41 non-null     object\n",
      " 3   Precaution_3  40 non-null     object\n",
      " 4   Precaution_4  40 non-null     object\n",
      "dtypes: object(5)\n",
      "memory usage: 1.9+ KB\n",
      "None\n",
      "######################################################\n",
      "time taken before data cleaning, 0.012 in milliseconds\n",
      "None\n"
     ]
    }
   ],
   "source": [
    "# Before Removing Nulls and Duplicate Data\n",
    "# Create a dictionary with DataFrame names as keys and DataFrames as values \n",
    "\n",
    "import time\n",
    "# Log start time\n",
    "start_time = time.time()\n",
    "\n",
    "dataframes = {\n",
    "    'medications': medications,\n",
    "    'df': df,\n",
    "    'Symptom_severity_df': Symptom_severity_df,\n",
    "    'sym_des': sym_des,\n",
    "    'description': description,\n",
    "    'workout': workout,\n",
    "    'diets': diets,\n",
    "    'precautions': precautions\n",
    "}\n",
    "\n",
    "# Loop through each DataFrame and to read dataframe.info\n",
    "for name, dataf in dataframes.items():\n",
    "    print(f\"DataFrame '{name}':\")\n",
    "    print(dataf.info())\n",
    "    print('######################################################')  # Just for a line between outputs\n",
    "\n",
    "\n",
    "# Log end time\n",
    "end_time = time.time()\n",
    "# Calculate the time taken\n",
    "time_taken_before = end_time - start_time\n",
    "print(print(f'time taken before data cleaning, {time_taken_before:.3f} in milliseconds'))\n"
   ]
  },
  {
   "cell_type": "code",
   "execution_count": 85,
   "metadata": {},
   "outputs": [
    {
     "name": "stdout",
     "output_type": "stream",
     "text": [
      "precautions Dataframe\n",
      " Disease         0\n",
      "Precaution_1    0\n",
      "Precaution_2    0\n",
      "Precaution_3    0\n",
      "Precaution_4    0\n",
      "dtype: int64\n",
      "\n",
      "Symptons Dataframe\n",
      " Disease      0\n",
      "Symptom_1    0\n",
      "Symptom_2    0\n",
      "Symptom_3    0\n",
      "Symptom_4    0\n",
      "dtype: int64\n"
     ]
    }
   ],
   "source": [
    "# Eliminating all NaN from the dataset\n",
    "# Remove inplace true and doing equals to dataframe to keeping datatype as dataframe\n",
    "sym_des=sym_des.dropna()\n",
    "precautions=precautions.dropna()\n",
    "\n",
    "print(\"precautions Dataframe\\n\", precautions.isna().sum())\n",
    "print(\"\\nSymptons Dataframe\\n\", sym_des.isna().sum())\n"
   ]
  },
  {
   "cell_type": "code",
   "execution_count": 86,
   "metadata": {},
   "outputs": [],
   "source": [
    "#Removing all Duplicate data from all the Dataframes\n",
    "medications=medications.drop_duplicates()\n",
    "df=df.drop_duplicates()\n",
    "Symptom_severity_df=Symptom_severity_df.drop_duplicates()\n",
    "sym_des=sym_des.drop_duplicates()\n",
    "description=description.drop_duplicates()\n",
    "workout=workout.drop_duplicates()\n",
    "diets=diets.drop_duplicates()\n",
    "precautions=precautions.drop_duplicates()"
   ]
  },
  {
   "cell_type": "code",
   "execution_count": 87,
   "metadata": {},
   "outputs": [
    {
     "name": "stdout",
     "output_type": "stream",
     "text": [
      "DataFrame 'medications':\n",
      "<class 'pandas.core.frame.DataFrame'>\n",
      "RangeIndex: 41 entries, 0 to 40\n",
      "Data columns (total 2 columns):\n",
      " #   Column      Non-Null Count  Dtype \n",
      "---  ------      --------------  ----- \n",
      " 0   Disease     41 non-null     object\n",
      " 1   Medication  41 non-null     object\n",
      "dtypes: object(2)\n",
      "memory usage: 788.0+ bytes\n",
      "None\n",
      "######################################################\n",
      "DataFrame 'df':\n",
      "<class 'pandas.core.frame.DataFrame'>\n",
      "Index: 304 entries, 0 to 407\n",
      "Columns: 133 entries, itching to prognosis\n",
      "dtypes: int64(132), object(1)\n",
      "memory usage: 318.2+ KB\n",
      "None\n",
      "######################################################\n",
      "DataFrame 'Symptom_severity_df':\n",
      "<class 'pandas.core.frame.DataFrame'>\n",
      "RangeIndex: 133 entries, 0 to 132\n",
      "Data columns (total 2 columns):\n",
      " #   Column   Non-Null Count  Dtype \n",
      "---  ------   --------------  ----- \n",
      " 0   Symptom  133 non-null    object\n",
      " 1   weight   133 non-null    int64 \n",
      "dtypes: int64(1), object(1)\n",
      "memory usage: 2.2+ KB\n",
      "None\n",
      "######################################################\n",
      "DataFrame 'sym_des':\n",
      "<class 'pandas.core.frame.DataFrame'>\n",
      "Index: 170 entries, 0 to 406\n",
      "Data columns (total 5 columns):\n",
      " #   Column     Non-Null Count  Dtype \n",
      "---  ------     --------------  ----- \n",
      " 0   Disease    170 non-null    object\n",
      " 1   Symptom_1  170 non-null    object\n",
      " 2   Symptom_2  170 non-null    object\n",
      " 3   Symptom_3  170 non-null    object\n",
      " 4   Symptom_4  170 non-null    object\n",
      "dtypes: object(5)\n",
      "memory usage: 8.0+ KB\n",
      "None\n",
      "######################################################\n",
      "DataFrame 'description':\n",
      "<class 'pandas.core.frame.DataFrame'>\n",
      "RangeIndex: 41 entries, 0 to 40\n",
      "Data columns (total 2 columns):\n",
      " #   Column       Non-Null Count  Dtype \n",
      "---  ------       --------------  ----- \n",
      " 0   Disease      41 non-null     object\n",
      " 1   Description  41 non-null     object\n",
      "dtypes: object(2)\n",
      "memory usage: 788.0+ bytes\n",
      "None\n",
      "######################################################\n",
      "DataFrame 'workout':\n",
      "<class 'pandas.core.frame.DataFrame'>\n",
      "Index: 409 entries, 0 to 409\n",
      "Data columns (total 2 columns):\n",
      " #   Column   Non-Null Count  Dtype \n",
      "---  ------   --------------  ----- \n",
      " 0   disease  409 non-null    object\n",
      " 1   workout  409 non-null    object\n",
      "dtypes: object(2)\n",
      "memory usage: 9.6+ KB\n",
      "None\n",
      "######################################################\n",
      "DataFrame 'diets':\n",
      "<class 'pandas.core.frame.DataFrame'>\n",
      "RangeIndex: 41 entries, 0 to 40\n",
      "Data columns (total 2 columns):\n",
      " #   Column   Non-Null Count  Dtype \n",
      "---  ------   --------------  ----- \n",
      " 0   Disease  41 non-null     object\n",
      " 1   Diet     41 non-null     object\n",
      "dtypes: object(2)\n",
      "memory usage: 788.0+ bytes\n",
      "None\n",
      "######################################################\n",
      "DataFrame 'precautions':\n",
      "<class 'pandas.core.frame.DataFrame'>\n",
      "Index: 39 entries, 0 to 40\n",
      "Data columns (total 5 columns):\n",
      " #   Column        Non-Null Count  Dtype \n",
      "---  ------        --------------  ----- \n",
      " 0   Disease       39 non-null     object\n",
      " 1   Precaution_1  39 non-null     object\n",
      " 2   Precaution_2  39 non-null     object\n",
      " 3   Precaution_3  39 non-null     object\n",
      " 4   Precaution_4  39 non-null     object\n",
      "dtypes: object(5)\n",
      "memory usage: 1.8+ KB\n",
      "None\n",
      "######################################################\n",
      "time taken after data cleaning 0.011 in milliseconds vs before datacleaning 0.012 in milliseconds\n"
     ]
    }
   ],
   "source": [
    "# #AFTER Removing Nulls and Duplicate Data from all the Dataframes\n",
    "# Create a dictionary with DataFrame names as keys and DataFrames as values\n",
    "import time\n",
    "# Log start time\n",
    "start_time = time.time()\n",
    "dataframes = {\n",
    "    'medications': medications,\n",
    "    'df': df,\n",
    "    'Symptom_severity_df': Symptom_severity_df,\n",
    "    'sym_des': sym_des,\n",
    "    'description': description,\n",
    "    'workout': workout,\n",
    "    'diets': diets,\n",
    "    'precautions': precautions\n",
    "}\n",
    "\n",
    "# Loop through each DataFrame and to read dataframe.info\n",
    "\n",
    "for name, dataf in dataframes.items():\n",
    "    print(f\"DataFrame '{name}':\")\n",
    "    # print(dataf.isnull().sum())\n",
    "    # print(dataf.shape)\n",
    "    print(dataf.info())\n",
    "    print('######################################################')  # Just for a blank line between outputs\n",
    "\n",
    "\n",
    "# Log end time\n",
    "end_time = time.time()\n",
    "# Calculate the time taken\n",
    "time_taken_after = end_time - start_time\n",
    "print(f'time taken after data cleaning {time_taken_after:.3f} in milliseconds vs before datacleaning {time_taken_before:.3f} in milliseconds')\n"
   ]
  },
  {
   "cell_type": "code",
   "execution_count": 88,
   "metadata": {},
   "outputs": [
    {
     "data": {
      "text/html": [
       "<div>\n",
       "<style scoped>\n",
       "    .dataframe tbody tr th:only-of-type {\n",
       "        vertical-align: middle;\n",
       "    }\n",
       "\n",
       "    .dataframe tbody tr th {\n",
       "        vertical-align: top;\n",
       "    }\n",
       "\n",
       "    .dataframe thead th {\n",
       "        text-align: right;\n",
       "    }\n",
       "</style>\n",
       "<table border=\"1\" class=\"dataframe\">\n",
       "  <thead>\n",
       "    <tr style=\"text-align: right;\">\n",
       "      <th></th>\n",
       "      <th>Disease</th>\n",
       "      <th>Medication</th>\n",
       "    </tr>\n",
       "  </thead>\n",
       "  <tbody>\n",
       "    <tr>\n",
       "      <th>0</th>\n",
       "      <td>Fungal infection</td>\n",
       "      <td>['Antifungal Cream', 'Fluconazole', 'Terbinafi...</td>\n",
       "    </tr>\n",
       "    <tr>\n",
       "      <th>1</th>\n",
       "      <td>Allergy</td>\n",
       "      <td>['Antihistamines', 'Decongestants', 'Epinephri...</td>\n",
       "    </tr>\n",
       "    <tr>\n",
       "      <th>2</th>\n",
       "      <td>GERD</td>\n",
       "      <td>['Proton Pump Inhibitors (PPIs)', 'H2 Blockers...</td>\n",
       "    </tr>\n",
       "    <tr>\n",
       "      <th>3</th>\n",
       "      <td>Chronic cholestasis</td>\n",
       "      <td>['Ursodeoxycholic acid', 'Cholestyramine', 'Me...</td>\n",
       "    </tr>\n",
       "    <tr>\n",
       "      <th>4</th>\n",
       "      <td>Drug Reaction</td>\n",
       "      <td>['Antihistamines', 'Epinephrine', 'Corticoster...</td>\n",
       "    </tr>\n",
       "  </tbody>\n",
       "</table>\n",
       "</div>"
      ],
      "text/plain": [
       "               Disease                                         Medication\n",
       "0     Fungal infection  ['Antifungal Cream', 'Fluconazole', 'Terbinafi...\n",
       "1              Allergy  ['Antihistamines', 'Decongestants', 'Epinephri...\n",
       "2                 GERD  ['Proton Pump Inhibitors (PPIs)', 'H2 Blockers...\n",
       "3  Chronic cholestasis  ['Ursodeoxycholic acid', 'Cholestyramine', 'Me...\n",
       "4        Drug Reaction  ['Antihistamines', 'Epinephrine', 'Corticoster..."
      ]
     },
     "execution_count": 88,
     "metadata": {},
     "output_type": "execute_result"
    }
   ],
   "source": [
    "#sample data\n",
    "medications.head()"
   ]
  },
  {
   "cell_type": "code",
   "execution_count": 89,
   "metadata": {},
   "outputs": [
    {
     "data": {
      "text/html": [
       "<div>\n",
       "<style scoped>\n",
       "    .dataframe tbody tr th:only-of-type {\n",
       "        vertical-align: middle;\n",
       "    }\n",
       "\n",
       "    .dataframe tbody tr th {\n",
       "        vertical-align: top;\n",
       "    }\n",
       "\n",
       "    .dataframe thead th {\n",
       "        text-align: right;\n",
       "    }\n",
       "</style>\n",
       "<table border=\"1\" class=\"dataframe\">\n",
       "  <thead>\n",
       "    <tr style=\"text-align: right;\">\n",
       "      <th></th>\n",
       "      <th>Symptom</th>\n",
       "      <th>weight</th>\n",
       "    </tr>\n",
       "  </thead>\n",
       "  <tbody>\n",
       "    <tr>\n",
       "      <th>0</th>\n",
       "      <td>itching</td>\n",
       "      <td>1</td>\n",
       "    </tr>\n",
       "    <tr>\n",
       "      <th>1</th>\n",
       "      <td>skin_rash</td>\n",
       "      <td>3</td>\n",
       "    </tr>\n",
       "    <tr>\n",
       "      <th>2</th>\n",
       "      <td>nodal_skin_eruptions</td>\n",
       "      <td>4</td>\n",
       "    </tr>\n",
       "    <tr>\n",
       "      <th>3</th>\n",
       "      <td>continuous_sneezing</td>\n",
       "      <td>4</td>\n",
       "    </tr>\n",
       "    <tr>\n",
       "      <th>4</th>\n",
       "      <td>shivering</td>\n",
       "      <td>5</td>\n",
       "    </tr>\n",
       "  </tbody>\n",
       "</table>\n",
       "</div>"
      ],
      "text/plain": [
       "                Symptom  weight\n",
       "0               itching       1\n",
       "1             skin_rash       3\n",
       "2  nodal_skin_eruptions       4\n",
       "3   continuous_sneezing       4\n",
       "4             shivering       5"
      ]
     },
     "execution_count": 89,
     "metadata": {},
     "output_type": "execute_result"
    }
   ],
   "source": [
    "#sample data\n",
    "\n",
    "Symptom_severity_df.head(5)"
   ]
  },
  {
   "cell_type": "code",
   "execution_count": 90,
   "metadata": {},
   "outputs": [
    {
     "data": {
      "text/html": [
       "<div>\n",
       "<style scoped>\n",
       "    .dataframe tbody tr th:only-of-type {\n",
       "        vertical-align: middle;\n",
       "    }\n",
       "\n",
       "    .dataframe tbody tr th {\n",
       "        vertical-align: top;\n",
       "    }\n",
       "\n",
       "    .dataframe thead th {\n",
       "        text-align: right;\n",
       "    }\n",
       "</style>\n",
       "<table border=\"1\" class=\"dataframe\">\n",
       "  <thead>\n",
       "    <tr style=\"text-align: right;\">\n",
       "      <th></th>\n",
       "      <th>Disease</th>\n",
       "      <th>Symptom_1</th>\n",
       "      <th>Symptom_2</th>\n",
       "      <th>Symptom_3</th>\n",
       "      <th>Symptom_4</th>\n",
       "    </tr>\n",
       "  </thead>\n",
       "  <tbody>\n",
       "    <tr>\n",
       "      <th>0</th>\n",
       "      <td>Fungal infection</td>\n",
       "      <td>itching</td>\n",
       "      <td>skin_rash</td>\n",
       "      <td>nodal_skin_eruptions</td>\n",
       "      <td>dischromic _patches</td>\n",
       "    </tr>\n",
       "    <tr>\n",
       "      <th>10</th>\n",
       "      <td>Allergy</td>\n",
       "      <td>continuous_sneezing</td>\n",
       "      <td>shivering</td>\n",
       "      <td>chills</td>\n",
       "      <td>watering_from_eyes</td>\n",
       "    </tr>\n",
       "    <tr>\n",
       "      <th>20</th>\n",
       "      <td>GERD</td>\n",
       "      <td>stomach_pain</td>\n",
       "      <td>acidity</td>\n",
       "      <td>ulcers_on_tongue</td>\n",
       "      <td>vomiting</td>\n",
       "    </tr>\n",
       "    <tr>\n",
       "      <th>21</th>\n",
       "      <td>GERD</td>\n",
       "      <td>stomach_pain</td>\n",
       "      <td>ulcers_on_tongue</td>\n",
       "      <td>vomiting</td>\n",
       "      <td>cough</td>\n",
       "    </tr>\n",
       "    <tr>\n",
       "      <th>22</th>\n",
       "      <td>GERD</td>\n",
       "      <td>stomach_pain</td>\n",
       "      <td>acidity</td>\n",
       "      <td>vomiting</td>\n",
       "      <td>cough</td>\n",
       "    </tr>\n",
       "  </tbody>\n",
       "</table>\n",
       "</div>"
      ],
      "text/plain": [
       "             Disease             Symptom_1          Symptom_2  \\\n",
       "0   Fungal infection               itching          skin_rash   \n",
       "10           Allergy   continuous_sneezing          shivering   \n",
       "20              GERD          stomach_pain            acidity   \n",
       "21              GERD          stomach_pain   ulcers_on_tongue   \n",
       "22              GERD          stomach_pain            acidity   \n",
       "\n",
       "                Symptom_3             Symptom_4  \n",
       "0    nodal_skin_eruptions   dischromic _patches  \n",
       "10                 chills    watering_from_eyes  \n",
       "20       ulcers_on_tongue              vomiting  \n",
       "21               vomiting                 cough  \n",
       "22               vomiting                 cough  "
      ]
     },
     "execution_count": 90,
     "metadata": {},
     "output_type": "execute_result"
    }
   ],
   "source": [
    "#sample data\n",
    "sym_des.head(5)\n"
   ]
  },
  {
   "cell_type": "code",
   "execution_count": 91,
   "metadata": {},
   "outputs": [
    {
     "data": {
      "text/html": [
       "<div>\n",
       "<style scoped>\n",
       "    .dataframe tbody tr th:only-of-type {\n",
       "        vertical-align: middle;\n",
       "    }\n",
       "\n",
       "    .dataframe tbody tr th {\n",
       "        vertical-align: top;\n",
       "    }\n",
       "\n",
       "    .dataframe thead th {\n",
       "        text-align: right;\n",
       "    }\n",
       "</style>\n",
       "<table border=\"1\" class=\"dataframe\">\n",
       "  <thead>\n",
       "    <tr style=\"text-align: right;\">\n",
       "      <th></th>\n",
       "      <th>Disease</th>\n",
       "      <th>Description</th>\n",
       "    </tr>\n",
       "  </thead>\n",
       "  <tbody>\n",
       "    <tr>\n",
       "      <th>0</th>\n",
       "      <td>Fungal infection</td>\n",
       "      <td>Fungal infection is a common skin condition ca...</td>\n",
       "    </tr>\n",
       "    <tr>\n",
       "      <th>1</th>\n",
       "      <td>Allergy</td>\n",
       "      <td>Allergy is an immune system reaction to a subs...</td>\n",
       "    </tr>\n",
       "    <tr>\n",
       "      <th>2</th>\n",
       "      <td>GERD</td>\n",
       "      <td>GERD (Gastroesophageal Reflux Disease) is a di...</td>\n",
       "    </tr>\n",
       "    <tr>\n",
       "      <th>3</th>\n",
       "      <td>Chronic cholestasis</td>\n",
       "      <td>Chronic cholestasis is a condition where bile ...</td>\n",
       "    </tr>\n",
       "    <tr>\n",
       "      <th>4</th>\n",
       "      <td>Drug Reaction</td>\n",
       "      <td>Drug Reaction occurs when the body reacts adve...</td>\n",
       "    </tr>\n",
       "  </tbody>\n",
       "</table>\n",
       "</div>"
      ],
      "text/plain": [
       "               Disease                                        Description\n",
       "0     Fungal infection  Fungal infection is a common skin condition ca...\n",
       "1              Allergy  Allergy is an immune system reaction to a subs...\n",
       "2                 GERD  GERD (Gastroesophageal Reflux Disease) is a di...\n",
       "3  Chronic cholestasis  Chronic cholestasis is a condition where bile ...\n",
       "4        Drug Reaction  Drug Reaction occurs when the body reacts adve..."
      ]
     },
     "execution_count": 91,
     "metadata": {},
     "output_type": "execute_result"
    }
   ],
   "source": [
    "#sample Data\n",
    "description.head(5)"
   ]
  },
  {
   "cell_type": "code",
   "execution_count": 92,
   "metadata": {},
   "outputs": [
    {
     "data": {
      "text/html": [
       "<div>\n",
       "<style scoped>\n",
       "    .dataframe tbody tr th:only-of-type {\n",
       "        vertical-align: middle;\n",
       "    }\n",
       "\n",
       "    .dataframe tbody tr th {\n",
       "        vertical-align: top;\n",
       "    }\n",
       "\n",
       "    .dataframe thead th {\n",
       "        text-align: right;\n",
       "    }\n",
       "</style>\n",
       "<table border=\"1\" class=\"dataframe\">\n",
       "  <thead>\n",
       "    <tr style=\"text-align: right;\">\n",
       "      <th></th>\n",
       "      <th>disease</th>\n",
       "      <th>workout</th>\n",
       "    </tr>\n",
       "  </thead>\n",
       "  <tbody>\n",
       "    <tr>\n",
       "      <th>0</th>\n",
       "      <td>Fungal infection</td>\n",
       "      <td>Avoid sugary foods</td>\n",
       "    </tr>\n",
       "    <tr>\n",
       "      <th>1</th>\n",
       "      <td>Fungal infection</td>\n",
       "      <td>Consume probiotics</td>\n",
       "    </tr>\n",
       "    <tr>\n",
       "      <th>2</th>\n",
       "      <td>Fungal infection</td>\n",
       "      <td>Increase intake of garlic</td>\n",
       "    </tr>\n",
       "    <tr>\n",
       "      <th>3</th>\n",
       "      <td>Fungal infection</td>\n",
       "      <td>Include yogurt in diet</td>\n",
       "    </tr>\n",
       "    <tr>\n",
       "      <th>4</th>\n",
       "      <td>Fungal infection</td>\n",
       "      <td>Limit processed foods</td>\n",
       "    </tr>\n",
       "  </tbody>\n",
       "</table>\n",
       "</div>"
      ],
      "text/plain": [
       "            disease                    workout\n",
       "0  Fungal infection         Avoid sugary foods\n",
       "1  Fungal infection         Consume probiotics\n",
       "2  Fungal infection  Increase intake of garlic\n",
       "3  Fungal infection     Include yogurt in diet\n",
       "4  Fungal infection      Limit processed foods"
      ]
     },
     "execution_count": 92,
     "metadata": {},
     "output_type": "execute_result"
    }
   ],
   "source": [
    "#Sample Data\n",
    "workout.head(5)"
   ]
  },
  {
   "cell_type": "code",
   "execution_count": 93,
   "metadata": {},
   "outputs": [
    {
     "data": {
      "text/html": [
       "<div>\n",
       "<style scoped>\n",
       "    .dataframe tbody tr th:only-of-type {\n",
       "        vertical-align: middle;\n",
       "    }\n",
       "\n",
       "    .dataframe tbody tr th {\n",
       "        vertical-align: top;\n",
       "    }\n",
       "\n",
       "    .dataframe thead th {\n",
       "        text-align: right;\n",
       "    }\n",
       "</style>\n",
       "<table border=\"1\" class=\"dataframe\">\n",
       "  <thead>\n",
       "    <tr style=\"text-align: right;\">\n",
       "      <th></th>\n",
       "      <th>Disease</th>\n",
       "      <th>Diet</th>\n",
       "    </tr>\n",
       "  </thead>\n",
       "  <tbody>\n",
       "    <tr>\n",
       "      <th>0</th>\n",
       "      <td>Fungal infection</td>\n",
       "      <td>['Antifungal Diet', 'Probiotics', 'Garlic', 'C...</td>\n",
       "    </tr>\n",
       "    <tr>\n",
       "      <th>1</th>\n",
       "      <td>Allergy</td>\n",
       "      <td>['Elimination Diet', 'Omega-3-rich foods', 'Vi...</td>\n",
       "    </tr>\n",
       "    <tr>\n",
       "      <th>2</th>\n",
       "      <td>GERD</td>\n",
       "      <td>['Low-Acid Diet', 'Fiber-rich foods', 'Ginger'...</td>\n",
       "    </tr>\n",
       "    <tr>\n",
       "      <th>3</th>\n",
       "      <td>Chronic cholestasis</td>\n",
       "      <td>['Low-Fat Diet', 'High-Fiber Diet', 'Lean prot...</td>\n",
       "    </tr>\n",
       "    <tr>\n",
       "      <th>4</th>\n",
       "      <td>Drug Reaction</td>\n",
       "      <td>['Antihistamine Diet', 'Omega-3-rich foods', '...</td>\n",
       "    </tr>\n",
       "  </tbody>\n",
       "</table>\n",
       "</div>"
      ],
      "text/plain": [
       "               Disease                                               Diet\n",
       "0     Fungal infection  ['Antifungal Diet', 'Probiotics', 'Garlic', 'C...\n",
       "1              Allergy  ['Elimination Diet', 'Omega-3-rich foods', 'Vi...\n",
       "2                 GERD  ['Low-Acid Diet', 'Fiber-rich foods', 'Ginger'...\n",
       "3  Chronic cholestasis  ['Low-Fat Diet', 'High-Fiber Diet', 'Lean prot...\n",
       "4        Drug Reaction  ['Antihistamine Diet', 'Omega-3-rich foods', '..."
      ]
     },
     "execution_count": 93,
     "metadata": {},
     "output_type": "execute_result"
    }
   ],
   "source": [
    "#Sample Data\n",
    "diets.head(5)"
   ]
  },
  {
   "cell_type": "code",
   "execution_count": 94,
   "metadata": {},
   "outputs": [
    {
     "data": {
      "text/html": [
       "<div>\n",
       "<style scoped>\n",
       "    .dataframe tbody tr th:only-of-type {\n",
       "        vertical-align: middle;\n",
       "    }\n",
       "\n",
       "    .dataframe tbody tr th {\n",
       "        vertical-align: top;\n",
       "    }\n",
       "\n",
       "    .dataframe thead th {\n",
       "        text-align: right;\n",
       "    }\n",
       "</style>\n",
       "<table border=\"1\" class=\"dataframe\">\n",
       "  <thead>\n",
       "    <tr style=\"text-align: right;\">\n",
       "      <th></th>\n",
       "      <th>Disease</th>\n",
       "      <th>Precaution_1</th>\n",
       "      <th>Precaution_2</th>\n",
       "      <th>Precaution_3</th>\n",
       "      <th>Precaution_4</th>\n",
       "    </tr>\n",
       "  </thead>\n",
       "  <tbody>\n",
       "    <tr>\n",
       "      <th>0</th>\n",
       "      <td>Drug Reaction</td>\n",
       "      <td>stop irritation</td>\n",
       "      <td>consult nearest hospital</td>\n",
       "      <td>stop taking drug</td>\n",
       "      <td>follow up</td>\n",
       "    </tr>\n",
       "    <tr>\n",
       "      <th>1</th>\n",
       "      <td>Malaria</td>\n",
       "      <td>Consult nearest hospital</td>\n",
       "      <td>avoid oily food</td>\n",
       "      <td>avoid non veg food</td>\n",
       "      <td>keep mosquitos out</td>\n",
       "    </tr>\n",
       "    <tr>\n",
       "      <th>3</th>\n",
       "      <td>Hypothyroidism</td>\n",
       "      <td>reduce stress</td>\n",
       "      <td>exercise</td>\n",
       "      <td>eat healthy</td>\n",
       "      <td>get proper sleep</td>\n",
       "    </tr>\n",
       "    <tr>\n",
       "      <th>4</th>\n",
       "      <td>Psoriasis</td>\n",
       "      <td>wash hands with warm soapy water</td>\n",
       "      <td>stop bleeding using pressure</td>\n",
       "      <td>consult doctor</td>\n",
       "      <td>salt baths</td>\n",
       "    </tr>\n",
       "    <tr>\n",
       "      <th>5</th>\n",
       "      <td>GERD</td>\n",
       "      <td>avoid fatty spicy food</td>\n",
       "      <td>avoid lying down after eating</td>\n",
       "      <td>maintain healthy weight</td>\n",
       "      <td>exercise</td>\n",
       "    </tr>\n",
       "  </tbody>\n",
       "</table>\n",
       "</div>"
      ],
      "text/plain": [
       "          Disease                      Precaution_1  \\\n",
       "0   Drug Reaction                   stop irritation   \n",
       "1         Malaria          Consult nearest hospital   \n",
       "3  Hypothyroidism                     reduce stress   \n",
       "4       Psoriasis  wash hands with warm soapy water   \n",
       "5            GERD            avoid fatty spicy food   \n",
       "\n",
       "                    Precaution_2             Precaution_3        Precaution_4  \n",
       "0       consult nearest hospital         stop taking drug           follow up  \n",
       "1                avoid oily food       avoid non veg food  keep mosquitos out  \n",
       "3                       exercise              eat healthy    get proper sleep  \n",
       "4   stop bleeding using pressure           consult doctor          salt baths  \n",
       "5  avoid lying down after eating  maintain healthy weight            exercise  "
      ]
     },
     "execution_count": 94,
     "metadata": {},
     "output_type": "execute_result"
    }
   ],
   "source": [
    "#Sample Data\n",
    "precautions.head(5)"
   ]
  },
  {
   "cell_type": "code",
   "execution_count": 95,
   "metadata": {},
   "outputs": [
    {
     "data": {
      "text/html": [
       "<div>\n",
       "<style scoped>\n",
       "    .dataframe tbody tr th:only-of-type {\n",
       "        vertical-align: middle;\n",
       "    }\n",
       "\n",
       "    .dataframe tbody tr th {\n",
       "        vertical-align: top;\n",
       "    }\n",
       "\n",
       "    .dataframe thead th {\n",
       "        text-align: right;\n",
       "    }\n",
       "</style>\n",
       "<table border=\"1\" class=\"dataframe\">\n",
       "  <thead>\n",
       "    <tr style=\"text-align: right;\">\n",
       "      <th></th>\n",
       "      <th>itching</th>\n",
       "      <th>skin_rash</th>\n",
       "      <th>nodal_skin_eruptions</th>\n",
       "      <th>continuous_sneezing</th>\n",
       "      <th>shivering</th>\n",
       "      <th>chills</th>\n",
       "      <th>joint_pain</th>\n",
       "      <th>stomach_pain</th>\n",
       "      <th>acidity</th>\n",
       "      <th>ulcers_on_tongue</th>\n",
       "      <th>muscle_wasting</th>\n",
       "      <th>vomiting</th>\n",
       "      <th>burning_micturition</th>\n",
       "      <th>spotting_ urination</th>\n",
       "      <th>fatigue</th>\n",
       "      <th>weight_gain</th>\n",
       "      <th>anxiety</th>\n",
       "      <th>cold_hands_and_feets</th>\n",
       "      <th>mood_swings</th>\n",
       "      <th>weight_loss</th>\n",
       "      <th>restlessness</th>\n",
       "      <th>lethargy</th>\n",
       "      <th>patches_in_throat</th>\n",
       "      <th>irregular_sugar_level</th>\n",
       "      <th>cough</th>\n",
       "      <th>high_fever</th>\n",
       "      <th>sunken_eyes</th>\n",
       "      <th>breathlessness</th>\n",
       "      <th>sweating</th>\n",
       "      <th>dehydration</th>\n",
       "      <th>indigestion</th>\n",
       "      <th>headache</th>\n",
       "      <th>yellowish_skin</th>\n",
       "      <th>dark_urine</th>\n",
       "      <th>nausea</th>\n",
       "      <th>loss_of_appetite</th>\n",
       "      <th>pain_behind_the_eyes</th>\n",
       "      <th>back_pain</th>\n",
       "      <th>constipation</th>\n",
       "      <th>abdominal_pain</th>\n",
       "      <th>diarrhoea</th>\n",
       "      <th>mild_fever</th>\n",
       "      <th>yellow_urine</th>\n",
       "      <th>yellowing_of_eyes</th>\n",
       "      <th>acute_liver_failure</th>\n",
       "      <th>fluid_overload</th>\n",
       "      <th>swelling_of_stomach</th>\n",
       "      <th>swelled_lymph_nodes</th>\n",
       "      <th>malaise</th>\n",
       "      <th>blurred_and_distorted_vision</th>\n",
       "      <th>phlegm</th>\n",
       "      <th>throat_irritation</th>\n",
       "      <th>redness_of_eyes</th>\n",
       "      <th>sinus_pressure</th>\n",
       "      <th>runny_nose</th>\n",
       "      <th>congestion</th>\n",
       "      <th>chest_pain</th>\n",
       "      <th>weakness_in_limbs</th>\n",
       "      <th>fast_heart_rate</th>\n",
       "      <th>pain_during_bowel_movements</th>\n",
       "      <th>pain_in_anal_region</th>\n",
       "      <th>bloody_stool</th>\n",
       "      <th>irritation_in_anus</th>\n",
       "      <th>neck_pain</th>\n",
       "      <th>dizziness</th>\n",
       "      <th>cramps</th>\n",
       "      <th>bruising</th>\n",
       "      <th>obesity</th>\n",
       "      <th>swollen_legs</th>\n",
       "      <th>swollen_blood_vessels</th>\n",
       "      <th>puffy_face_and_eyes</th>\n",
       "      <th>enlarged_thyroid</th>\n",
       "      <th>brittle_nails</th>\n",
       "      <th>swollen_extremeties</th>\n",
       "      <th>excessive_hunger</th>\n",
       "      <th>extra_marital_contacts</th>\n",
       "      <th>drying_and_tingling_lips</th>\n",
       "      <th>slurred_speech</th>\n",
       "      <th>knee_pain</th>\n",
       "      <th>hip_joint_pain</th>\n",
       "      <th>muscle_weakness</th>\n",
       "      <th>stiff_neck</th>\n",
       "      <th>swelling_joints</th>\n",
       "      <th>movement_stiffness</th>\n",
       "      <th>spinning_movements</th>\n",
       "      <th>loss_of_balance</th>\n",
       "      <th>unsteadiness</th>\n",
       "      <th>weakness_of_one_body_side</th>\n",
       "      <th>loss_of_smell</th>\n",
       "      <th>bladder_discomfort</th>\n",
       "      <th>foul_smell_of urine</th>\n",
       "      <th>continuous_feel_of_urine</th>\n",
       "      <th>passage_of_gases</th>\n",
       "      <th>internal_itching</th>\n",
       "      <th>toxic_look_(typhos)</th>\n",
       "      <th>depression</th>\n",
       "      <th>irritability</th>\n",
       "      <th>muscle_pain</th>\n",
       "      <th>altered_sensorium</th>\n",
       "      <th>red_spots_over_body</th>\n",
       "      <th>belly_pain</th>\n",
       "      <th>abnormal_menstruation</th>\n",
       "      <th>dischromic _patches</th>\n",
       "      <th>watering_from_eyes</th>\n",
       "      <th>increased_appetite</th>\n",
       "      <th>polyuria</th>\n",
       "      <th>family_history</th>\n",
       "      <th>mucoid_sputum</th>\n",
       "      <th>rusty_sputum</th>\n",
       "      <th>lack_of_concentration</th>\n",
       "      <th>visual_disturbances</th>\n",
       "      <th>receiving_blood_transfusion</th>\n",
       "      <th>receiving_unsterile_injections</th>\n",
       "      <th>coma</th>\n",
       "      <th>stomach_bleeding</th>\n",
       "      <th>distention_of_abdomen</th>\n",
       "      <th>history_of_alcohol_consumption</th>\n",
       "      <th>fluid_overload.1</th>\n",
       "      <th>blood_in_sputum</th>\n",
       "      <th>prominent_veins_on_calf</th>\n",
       "      <th>palpitations</th>\n",
       "      <th>painful_walking</th>\n",
       "      <th>pus_filled_pimples</th>\n",
       "      <th>blackheads</th>\n",
       "      <th>scurring</th>\n",
       "      <th>skin_peeling</th>\n",
       "      <th>silver_like_dusting</th>\n",
       "      <th>small_dents_in_nails</th>\n",
       "      <th>inflammatory_nails</th>\n",
       "      <th>blister</th>\n",
       "      <th>red_sore_around_nose</th>\n",
       "      <th>yellow_crust_ooze</th>\n",
       "      <th>prognosis</th>\n",
       "    </tr>\n",
       "  </thead>\n",
       "  <tbody>\n",
       "    <tr>\n",
       "      <th>0</th>\n",
       "      <td>1</td>\n",
       "      <td>1</td>\n",
       "      <td>1</td>\n",
       "      <td>0</td>\n",
       "      <td>0</td>\n",
       "      <td>0</td>\n",
       "      <td>0</td>\n",
       "      <td>0</td>\n",
       "      <td>0</td>\n",
       "      <td>0</td>\n",
       "      <td>0</td>\n",
       "      <td>0</td>\n",
       "      <td>0</td>\n",
       "      <td>0</td>\n",
       "      <td>0</td>\n",
       "      <td>0</td>\n",
       "      <td>0</td>\n",
       "      <td>0</td>\n",
       "      <td>0</td>\n",
       "      <td>0</td>\n",
       "      <td>0</td>\n",
       "      <td>0</td>\n",
       "      <td>0</td>\n",
       "      <td>0</td>\n",
       "      <td>0</td>\n",
       "      <td>0</td>\n",
       "      <td>0</td>\n",
       "      <td>0</td>\n",
       "      <td>0</td>\n",
       "      <td>0</td>\n",
       "      <td>0</td>\n",
       "      <td>0</td>\n",
       "      <td>0</td>\n",
       "      <td>0</td>\n",
       "      <td>0</td>\n",
       "      <td>0</td>\n",
       "      <td>0</td>\n",
       "      <td>0</td>\n",
       "      <td>0</td>\n",
       "      <td>0</td>\n",
       "      <td>0</td>\n",
       "      <td>0</td>\n",
       "      <td>0</td>\n",
       "      <td>0</td>\n",
       "      <td>0</td>\n",
       "      <td>0</td>\n",
       "      <td>0</td>\n",
       "      <td>0</td>\n",
       "      <td>0</td>\n",
       "      <td>0</td>\n",
       "      <td>0</td>\n",
       "      <td>0</td>\n",
       "      <td>0</td>\n",
       "      <td>0</td>\n",
       "      <td>0</td>\n",
       "      <td>0</td>\n",
       "      <td>0</td>\n",
       "      <td>0</td>\n",
       "      <td>0</td>\n",
       "      <td>0</td>\n",
       "      <td>0</td>\n",
       "      <td>0</td>\n",
       "      <td>0</td>\n",
       "      <td>0</td>\n",
       "      <td>0</td>\n",
       "      <td>0</td>\n",
       "      <td>0</td>\n",
       "      <td>0</td>\n",
       "      <td>0</td>\n",
       "      <td>0</td>\n",
       "      <td>0</td>\n",
       "      <td>0</td>\n",
       "      <td>0</td>\n",
       "      <td>0</td>\n",
       "      <td>0</td>\n",
       "      <td>0</td>\n",
       "      <td>0</td>\n",
       "      <td>0</td>\n",
       "      <td>0</td>\n",
       "      <td>0</td>\n",
       "      <td>0</td>\n",
       "      <td>0</td>\n",
       "      <td>0</td>\n",
       "      <td>0</td>\n",
       "      <td>0</td>\n",
       "      <td>0</td>\n",
       "      <td>0</td>\n",
       "      <td>0</td>\n",
       "      <td>0</td>\n",
       "      <td>0</td>\n",
       "      <td>0</td>\n",
       "      <td>0</td>\n",
       "      <td>0</td>\n",
       "      <td>0</td>\n",
       "      <td>0</td>\n",
       "      <td>0</td>\n",
       "      <td>0</td>\n",
       "      <td>0</td>\n",
       "      <td>0</td>\n",
       "      <td>0</td>\n",
       "      <td>0</td>\n",
       "      <td>0</td>\n",
       "      <td>1</td>\n",
       "      <td>0</td>\n",
       "      <td>0</td>\n",
       "      <td>0</td>\n",
       "      <td>0</td>\n",
       "      <td>0</td>\n",
       "      <td>0</td>\n",
       "      <td>0</td>\n",
       "      <td>0</td>\n",
       "      <td>0</td>\n",
       "      <td>0</td>\n",
       "      <td>0</td>\n",
       "      <td>0</td>\n",
       "      <td>0</td>\n",
       "      <td>0</td>\n",
       "      <td>0</td>\n",
       "      <td>0</td>\n",
       "      <td>0</td>\n",
       "      <td>0</td>\n",
       "      <td>0</td>\n",
       "      <td>0</td>\n",
       "      <td>0</td>\n",
       "      <td>0</td>\n",
       "      <td>0</td>\n",
       "      <td>0</td>\n",
       "      <td>0</td>\n",
       "      <td>0</td>\n",
       "      <td>0</td>\n",
       "      <td>0</td>\n",
       "      <td>0</td>\n",
       "      <td>Fungal infection</td>\n",
       "    </tr>\n",
       "    <tr>\n",
       "      <th>1</th>\n",
       "      <td>0</td>\n",
       "      <td>1</td>\n",
       "      <td>1</td>\n",
       "      <td>0</td>\n",
       "      <td>0</td>\n",
       "      <td>0</td>\n",
       "      <td>0</td>\n",
       "      <td>0</td>\n",
       "      <td>0</td>\n",
       "      <td>0</td>\n",
       "      <td>0</td>\n",
       "      <td>0</td>\n",
       "      <td>0</td>\n",
       "      <td>0</td>\n",
       "      <td>0</td>\n",
       "      <td>0</td>\n",
       "      <td>0</td>\n",
       "      <td>0</td>\n",
       "      <td>0</td>\n",
       "      <td>0</td>\n",
       "      <td>0</td>\n",
       "      <td>0</td>\n",
       "      <td>0</td>\n",
       "      <td>0</td>\n",
       "      <td>0</td>\n",
       "      <td>0</td>\n",
       "      <td>0</td>\n",
       "      <td>0</td>\n",
       "      <td>0</td>\n",
       "      <td>0</td>\n",
       "      <td>0</td>\n",
       "      <td>0</td>\n",
       "      <td>0</td>\n",
       "      <td>0</td>\n",
       "      <td>0</td>\n",
       "      <td>0</td>\n",
       "      <td>0</td>\n",
       "      <td>0</td>\n",
       "      <td>0</td>\n",
       "      <td>0</td>\n",
       "      <td>0</td>\n",
       "      <td>0</td>\n",
       "      <td>0</td>\n",
       "      <td>0</td>\n",
       "      <td>0</td>\n",
       "      <td>0</td>\n",
       "      <td>0</td>\n",
       "      <td>0</td>\n",
       "      <td>0</td>\n",
       "      <td>0</td>\n",
       "      <td>0</td>\n",
       "      <td>0</td>\n",
       "      <td>0</td>\n",
       "      <td>0</td>\n",
       "      <td>0</td>\n",
       "      <td>0</td>\n",
       "      <td>0</td>\n",
       "      <td>0</td>\n",
       "      <td>0</td>\n",
       "      <td>0</td>\n",
       "      <td>0</td>\n",
       "      <td>0</td>\n",
       "      <td>0</td>\n",
       "      <td>0</td>\n",
       "      <td>0</td>\n",
       "      <td>0</td>\n",
       "      <td>0</td>\n",
       "      <td>0</td>\n",
       "      <td>0</td>\n",
       "      <td>0</td>\n",
       "      <td>0</td>\n",
       "      <td>0</td>\n",
       "      <td>0</td>\n",
       "      <td>0</td>\n",
       "      <td>0</td>\n",
       "      <td>0</td>\n",
       "      <td>0</td>\n",
       "      <td>0</td>\n",
       "      <td>0</td>\n",
       "      <td>0</td>\n",
       "      <td>0</td>\n",
       "      <td>0</td>\n",
       "      <td>0</td>\n",
       "      <td>0</td>\n",
       "      <td>0</td>\n",
       "      <td>0</td>\n",
       "      <td>0</td>\n",
       "      <td>0</td>\n",
       "      <td>0</td>\n",
       "      <td>0</td>\n",
       "      <td>0</td>\n",
       "      <td>0</td>\n",
       "      <td>0</td>\n",
       "      <td>0</td>\n",
       "      <td>0</td>\n",
       "      <td>0</td>\n",
       "      <td>0</td>\n",
       "      <td>0</td>\n",
       "      <td>0</td>\n",
       "      <td>0</td>\n",
       "      <td>0</td>\n",
       "      <td>0</td>\n",
       "      <td>1</td>\n",
       "      <td>0</td>\n",
       "      <td>0</td>\n",
       "      <td>0</td>\n",
       "      <td>0</td>\n",
       "      <td>0</td>\n",
       "      <td>0</td>\n",
       "      <td>0</td>\n",
       "      <td>0</td>\n",
       "      <td>0</td>\n",
       "      <td>0</td>\n",
       "      <td>0</td>\n",
       "      <td>0</td>\n",
       "      <td>0</td>\n",
       "      <td>0</td>\n",
       "      <td>0</td>\n",
       "      <td>0</td>\n",
       "      <td>0</td>\n",
       "      <td>0</td>\n",
       "      <td>0</td>\n",
       "      <td>0</td>\n",
       "      <td>0</td>\n",
       "      <td>0</td>\n",
       "      <td>0</td>\n",
       "      <td>0</td>\n",
       "      <td>0</td>\n",
       "      <td>0</td>\n",
       "      <td>0</td>\n",
       "      <td>0</td>\n",
       "      <td>0</td>\n",
       "      <td>Fungal infection</td>\n",
       "    </tr>\n",
       "    <tr>\n",
       "      <th>2</th>\n",
       "      <td>1</td>\n",
       "      <td>0</td>\n",
       "      <td>1</td>\n",
       "      <td>0</td>\n",
       "      <td>0</td>\n",
       "      <td>0</td>\n",
       "      <td>0</td>\n",
       "      <td>0</td>\n",
       "      <td>0</td>\n",
       "      <td>0</td>\n",
       "      <td>0</td>\n",
       "      <td>0</td>\n",
       "      <td>0</td>\n",
       "      <td>0</td>\n",
       "      <td>0</td>\n",
       "      <td>0</td>\n",
       "      <td>0</td>\n",
       "      <td>0</td>\n",
       "      <td>0</td>\n",
       "      <td>0</td>\n",
       "      <td>0</td>\n",
       "      <td>0</td>\n",
       "      <td>0</td>\n",
       "      <td>0</td>\n",
       "      <td>0</td>\n",
       "      <td>0</td>\n",
       "      <td>0</td>\n",
       "      <td>0</td>\n",
       "      <td>0</td>\n",
       "      <td>0</td>\n",
       "      <td>0</td>\n",
       "      <td>0</td>\n",
       "      <td>0</td>\n",
       "      <td>0</td>\n",
       "      <td>0</td>\n",
       "      <td>0</td>\n",
       "      <td>0</td>\n",
       "      <td>0</td>\n",
       "      <td>0</td>\n",
       "      <td>0</td>\n",
       "      <td>0</td>\n",
       "      <td>0</td>\n",
       "      <td>0</td>\n",
       "      <td>0</td>\n",
       "      <td>0</td>\n",
       "      <td>0</td>\n",
       "      <td>0</td>\n",
       "      <td>0</td>\n",
       "      <td>0</td>\n",
       "      <td>0</td>\n",
       "      <td>0</td>\n",
       "      <td>0</td>\n",
       "      <td>0</td>\n",
       "      <td>0</td>\n",
       "      <td>0</td>\n",
       "      <td>0</td>\n",
       "      <td>0</td>\n",
       "      <td>0</td>\n",
       "      <td>0</td>\n",
       "      <td>0</td>\n",
       "      <td>0</td>\n",
       "      <td>0</td>\n",
       "      <td>0</td>\n",
       "      <td>0</td>\n",
       "      <td>0</td>\n",
       "      <td>0</td>\n",
       "      <td>0</td>\n",
       "      <td>0</td>\n",
       "      <td>0</td>\n",
       "      <td>0</td>\n",
       "      <td>0</td>\n",
       "      <td>0</td>\n",
       "      <td>0</td>\n",
       "      <td>0</td>\n",
       "      <td>0</td>\n",
       "      <td>0</td>\n",
       "      <td>0</td>\n",
       "      <td>0</td>\n",
       "      <td>0</td>\n",
       "      <td>0</td>\n",
       "      <td>0</td>\n",
       "      <td>0</td>\n",
       "      <td>0</td>\n",
       "      <td>0</td>\n",
       "      <td>0</td>\n",
       "      <td>0</td>\n",
       "      <td>0</td>\n",
       "      <td>0</td>\n",
       "      <td>0</td>\n",
       "      <td>0</td>\n",
       "      <td>0</td>\n",
       "      <td>0</td>\n",
       "      <td>0</td>\n",
       "      <td>0</td>\n",
       "      <td>0</td>\n",
       "      <td>0</td>\n",
       "      <td>0</td>\n",
       "      <td>0</td>\n",
       "      <td>0</td>\n",
       "      <td>0</td>\n",
       "      <td>0</td>\n",
       "      <td>0</td>\n",
       "      <td>1</td>\n",
       "      <td>0</td>\n",
       "      <td>0</td>\n",
       "      <td>0</td>\n",
       "      <td>0</td>\n",
       "      <td>0</td>\n",
       "      <td>0</td>\n",
       "      <td>0</td>\n",
       "      <td>0</td>\n",
       "      <td>0</td>\n",
       "      <td>0</td>\n",
       "      <td>0</td>\n",
       "      <td>0</td>\n",
       "      <td>0</td>\n",
       "      <td>0</td>\n",
       "      <td>0</td>\n",
       "      <td>0</td>\n",
       "      <td>0</td>\n",
       "      <td>0</td>\n",
       "      <td>0</td>\n",
       "      <td>0</td>\n",
       "      <td>0</td>\n",
       "      <td>0</td>\n",
       "      <td>0</td>\n",
       "      <td>0</td>\n",
       "      <td>0</td>\n",
       "      <td>0</td>\n",
       "      <td>0</td>\n",
       "      <td>0</td>\n",
       "      <td>0</td>\n",
       "      <td>Fungal infection</td>\n",
       "    </tr>\n",
       "    <tr>\n",
       "      <th>3</th>\n",
       "      <td>1</td>\n",
       "      <td>1</td>\n",
       "      <td>0</td>\n",
       "      <td>0</td>\n",
       "      <td>0</td>\n",
       "      <td>0</td>\n",
       "      <td>0</td>\n",
       "      <td>0</td>\n",
       "      <td>0</td>\n",
       "      <td>0</td>\n",
       "      <td>0</td>\n",
       "      <td>0</td>\n",
       "      <td>0</td>\n",
       "      <td>0</td>\n",
       "      <td>0</td>\n",
       "      <td>0</td>\n",
       "      <td>0</td>\n",
       "      <td>0</td>\n",
       "      <td>0</td>\n",
       "      <td>0</td>\n",
       "      <td>0</td>\n",
       "      <td>0</td>\n",
       "      <td>0</td>\n",
       "      <td>0</td>\n",
       "      <td>0</td>\n",
       "      <td>0</td>\n",
       "      <td>0</td>\n",
       "      <td>0</td>\n",
       "      <td>0</td>\n",
       "      <td>0</td>\n",
       "      <td>0</td>\n",
       "      <td>0</td>\n",
       "      <td>0</td>\n",
       "      <td>0</td>\n",
       "      <td>0</td>\n",
       "      <td>0</td>\n",
       "      <td>0</td>\n",
       "      <td>0</td>\n",
       "      <td>0</td>\n",
       "      <td>0</td>\n",
       "      <td>0</td>\n",
       "      <td>0</td>\n",
       "      <td>0</td>\n",
       "      <td>0</td>\n",
       "      <td>0</td>\n",
       "      <td>0</td>\n",
       "      <td>0</td>\n",
       "      <td>0</td>\n",
       "      <td>0</td>\n",
       "      <td>0</td>\n",
       "      <td>0</td>\n",
       "      <td>0</td>\n",
       "      <td>0</td>\n",
       "      <td>0</td>\n",
       "      <td>0</td>\n",
       "      <td>0</td>\n",
       "      <td>0</td>\n",
       "      <td>0</td>\n",
       "      <td>0</td>\n",
       "      <td>0</td>\n",
       "      <td>0</td>\n",
       "      <td>0</td>\n",
       "      <td>0</td>\n",
       "      <td>0</td>\n",
       "      <td>0</td>\n",
       "      <td>0</td>\n",
       "      <td>0</td>\n",
       "      <td>0</td>\n",
       "      <td>0</td>\n",
       "      <td>0</td>\n",
       "      <td>0</td>\n",
       "      <td>0</td>\n",
       "      <td>0</td>\n",
       "      <td>0</td>\n",
       "      <td>0</td>\n",
       "      <td>0</td>\n",
       "      <td>0</td>\n",
       "      <td>0</td>\n",
       "      <td>0</td>\n",
       "      <td>0</td>\n",
       "      <td>0</td>\n",
       "      <td>0</td>\n",
       "      <td>0</td>\n",
       "      <td>0</td>\n",
       "      <td>0</td>\n",
       "      <td>0</td>\n",
       "      <td>0</td>\n",
       "      <td>0</td>\n",
       "      <td>0</td>\n",
       "      <td>0</td>\n",
       "      <td>0</td>\n",
       "      <td>0</td>\n",
       "      <td>0</td>\n",
       "      <td>0</td>\n",
       "      <td>0</td>\n",
       "      <td>0</td>\n",
       "      <td>0</td>\n",
       "      <td>0</td>\n",
       "      <td>0</td>\n",
       "      <td>0</td>\n",
       "      <td>0</td>\n",
       "      <td>0</td>\n",
       "      <td>1</td>\n",
       "      <td>0</td>\n",
       "      <td>0</td>\n",
       "      <td>0</td>\n",
       "      <td>0</td>\n",
       "      <td>0</td>\n",
       "      <td>0</td>\n",
       "      <td>0</td>\n",
       "      <td>0</td>\n",
       "      <td>0</td>\n",
       "      <td>0</td>\n",
       "      <td>0</td>\n",
       "      <td>0</td>\n",
       "      <td>0</td>\n",
       "      <td>0</td>\n",
       "      <td>0</td>\n",
       "      <td>0</td>\n",
       "      <td>0</td>\n",
       "      <td>0</td>\n",
       "      <td>0</td>\n",
       "      <td>0</td>\n",
       "      <td>0</td>\n",
       "      <td>0</td>\n",
       "      <td>0</td>\n",
       "      <td>0</td>\n",
       "      <td>0</td>\n",
       "      <td>0</td>\n",
       "      <td>0</td>\n",
       "      <td>0</td>\n",
       "      <td>0</td>\n",
       "      <td>Fungal infection</td>\n",
       "    </tr>\n",
       "    <tr>\n",
       "      <th>4</th>\n",
       "      <td>1</td>\n",
       "      <td>1</td>\n",
       "      <td>1</td>\n",
       "      <td>0</td>\n",
       "      <td>0</td>\n",
       "      <td>0</td>\n",
       "      <td>0</td>\n",
       "      <td>0</td>\n",
       "      <td>0</td>\n",
       "      <td>0</td>\n",
       "      <td>0</td>\n",
       "      <td>0</td>\n",
       "      <td>0</td>\n",
       "      <td>0</td>\n",
       "      <td>0</td>\n",
       "      <td>0</td>\n",
       "      <td>0</td>\n",
       "      <td>0</td>\n",
       "      <td>0</td>\n",
       "      <td>0</td>\n",
       "      <td>0</td>\n",
       "      <td>0</td>\n",
       "      <td>0</td>\n",
       "      <td>0</td>\n",
       "      <td>0</td>\n",
       "      <td>0</td>\n",
       "      <td>0</td>\n",
       "      <td>0</td>\n",
       "      <td>0</td>\n",
       "      <td>0</td>\n",
       "      <td>0</td>\n",
       "      <td>0</td>\n",
       "      <td>0</td>\n",
       "      <td>0</td>\n",
       "      <td>0</td>\n",
       "      <td>0</td>\n",
       "      <td>0</td>\n",
       "      <td>0</td>\n",
       "      <td>0</td>\n",
       "      <td>0</td>\n",
       "      <td>0</td>\n",
       "      <td>0</td>\n",
       "      <td>0</td>\n",
       "      <td>0</td>\n",
       "      <td>0</td>\n",
       "      <td>0</td>\n",
       "      <td>0</td>\n",
       "      <td>0</td>\n",
       "      <td>0</td>\n",
       "      <td>0</td>\n",
       "      <td>0</td>\n",
       "      <td>0</td>\n",
       "      <td>0</td>\n",
       "      <td>0</td>\n",
       "      <td>0</td>\n",
       "      <td>0</td>\n",
       "      <td>0</td>\n",
       "      <td>0</td>\n",
       "      <td>0</td>\n",
       "      <td>0</td>\n",
       "      <td>0</td>\n",
       "      <td>0</td>\n",
       "      <td>0</td>\n",
       "      <td>0</td>\n",
       "      <td>0</td>\n",
       "      <td>0</td>\n",
       "      <td>0</td>\n",
       "      <td>0</td>\n",
       "      <td>0</td>\n",
       "      <td>0</td>\n",
       "      <td>0</td>\n",
       "      <td>0</td>\n",
       "      <td>0</td>\n",
       "      <td>0</td>\n",
       "      <td>0</td>\n",
       "      <td>0</td>\n",
       "      <td>0</td>\n",
       "      <td>0</td>\n",
       "      <td>0</td>\n",
       "      <td>0</td>\n",
       "      <td>0</td>\n",
       "      <td>0</td>\n",
       "      <td>0</td>\n",
       "      <td>0</td>\n",
       "      <td>0</td>\n",
       "      <td>0</td>\n",
       "      <td>0</td>\n",
       "      <td>0</td>\n",
       "      <td>0</td>\n",
       "      <td>0</td>\n",
       "      <td>0</td>\n",
       "      <td>0</td>\n",
       "      <td>0</td>\n",
       "      <td>0</td>\n",
       "      <td>0</td>\n",
       "      <td>0</td>\n",
       "      <td>0</td>\n",
       "      <td>0</td>\n",
       "      <td>0</td>\n",
       "      <td>0</td>\n",
       "      <td>0</td>\n",
       "      <td>0</td>\n",
       "      <td>0</td>\n",
       "      <td>0</td>\n",
       "      <td>0</td>\n",
       "      <td>0</td>\n",
       "      <td>0</td>\n",
       "      <td>0</td>\n",
       "      <td>0</td>\n",
       "      <td>0</td>\n",
       "      <td>0</td>\n",
       "      <td>0</td>\n",
       "      <td>0</td>\n",
       "      <td>0</td>\n",
       "      <td>0</td>\n",
       "      <td>0</td>\n",
       "      <td>0</td>\n",
       "      <td>0</td>\n",
       "      <td>0</td>\n",
       "      <td>0</td>\n",
       "      <td>0</td>\n",
       "      <td>0</td>\n",
       "      <td>0</td>\n",
       "      <td>0</td>\n",
       "      <td>0</td>\n",
       "      <td>0</td>\n",
       "      <td>0</td>\n",
       "      <td>0</td>\n",
       "      <td>0</td>\n",
       "      <td>0</td>\n",
       "      <td>0</td>\n",
       "      <td>0</td>\n",
       "      <td>Fungal infection</td>\n",
       "    </tr>\n",
       "  </tbody>\n",
       "</table>\n",
       "</div>"
      ],
      "text/plain": [
       "   itching  skin_rash  nodal_skin_eruptions  continuous_sneezing  shivering  \\\n",
       "0        1          1                     1                    0          0   \n",
       "1        0          1                     1                    0          0   \n",
       "2        1          0                     1                    0          0   \n",
       "3        1          1                     0                    0          0   \n",
       "4        1          1                     1                    0          0   \n",
       "\n",
       "   chills  joint_pain  stomach_pain  acidity  ulcers_on_tongue  \\\n",
       "0       0           0             0        0                 0   \n",
       "1       0           0             0        0                 0   \n",
       "2       0           0             0        0                 0   \n",
       "3       0           0             0        0                 0   \n",
       "4       0           0             0        0                 0   \n",
       "\n",
       "   muscle_wasting  vomiting  burning_micturition  spotting_ urination  \\\n",
       "0               0         0                    0                    0   \n",
       "1               0         0                    0                    0   \n",
       "2               0         0                    0                    0   \n",
       "3               0         0                    0                    0   \n",
       "4               0         0                    0                    0   \n",
       "\n",
       "   fatigue  weight_gain  anxiety  cold_hands_and_feets  mood_swings  \\\n",
       "0        0            0        0                     0            0   \n",
       "1        0            0        0                     0            0   \n",
       "2        0            0        0                     0            0   \n",
       "3        0            0        0                     0            0   \n",
       "4        0            0        0                     0            0   \n",
       "\n",
       "   weight_loss  restlessness  lethargy  patches_in_throat  \\\n",
       "0            0             0         0                  0   \n",
       "1            0             0         0                  0   \n",
       "2            0             0         0                  0   \n",
       "3            0             0         0                  0   \n",
       "4            0             0         0                  0   \n",
       "\n",
       "   irregular_sugar_level  cough  high_fever  sunken_eyes  breathlessness  \\\n",
       "0                      0      0           0            0               0   \n",
       "1                      0      0           0            0               0   \n",
       "2                      0      0           0            0               0   \n",
       "3                      0      0           0            0               0   \n",
       "4                      0      0           0            0               0   \n",
       "\n",
       "   sweating  dehydration  indigestion  headache  yellowish_skin  dark_urine  \\\n",
       "0         0            0            0         0               0           0   \n",
       "1         0            0            0         0               0           0   \n",
       "2         0            0            0         0               0           0   \n",
       "3         0            0            0         0               0           0   \n",
       "4         0            0            0         0               0           0   \n",
       "\n",
       "   nausea  loss_of_appetite  pain_behind_the_eyes  back_pain  constipation  \\\n",
       "0       0                 0                     0          0             0   \n",
       "1       0                 0                     0          0             0   \n",
       "2       0                 0                     0          0             0   \n",
       "3       0                 0                     0          0             0   \n",
       "4       0                 0                     0          0             0   \n",
       "\n",
       "   abdominal_pain  diarrhoea  mild_fever  yellow_urine  yellowing_of_eyes  \\\n",
       "0               0          0           0             0                  0   \n",
       "1               0          0           0             0                  0   \n",
       "2               0          0           0             0                  0   \n",
       "3               0          0           0             0                  0   \n",
       "4               0          0           0             0                  0   \n",
       "\n",
       "   acute_liver_failure  fluid_overload  swelling_of_stomach  \\\n",
       "0                    0               0                    0   \n",
       "1                    0               0                    0   \n",
       "2                    0               0                    0   \n",
       "3                    0               0                    0   \n",
       "4                    0               0                    0   \n",
       "\n",
       "   swelled_lymph_nodes  malaise  blurred_and_distorted_vision  phlegm  \\\n",
       "0                    0        0                             0       0   \n",
       "1                    0        0                             0       0   \n",
       "2                    0        0                             0       0   \n",
       "3                    0        0                             0       0   \n",
       "4                    0        0                             0       0   \n",
       "\n",
       "   throat_irritation  redness_of_eyes  sinus_pressure  runny_nose  congestion  \\\n",
       "0                  0                0               0           0           0   \n",
       "1                  0                0               0           0           0   \n",
       "2                  0                0               0           0           0   \n",
       "3                  0                0               0           0           0   \n",
       "4                  0                0               0           0           0   \n",
       "\n",
       "   chest_pain  weakness_in_limbs  fast_heart_rate  \\\n",
       "0           0                  0                0   \n",
       "1           0                  0                0   \n",
       "2           0                  0                0   \n",
       "3           0                  0                0   \n",
       "4           0                  0                0   \n",
       "\n",
       "   pain_during_bowel_movements  pain_in_anal_region  bloody_stool  \\\n",
       "0                            0                    0             0   \n",
       "1                            0                    0             0   \n",
       "2                            0                    0             0   \n",
       "3                            0                    0             0   \n",
       "4                            0                    0             0   \n",
       "\n",
       "   irritation_in_anus  neck_pain  dizziness  cramps  bruising  obesity  \\\n",
       "0                   0          0          0       0         0        0   \n",
       "1                   0          0          0       0         0        0   \n",
       "2                   0          0          0       0         0        0   \n",
       "3                   0          0          0       0         0        0   \n",
       "4                   0          0          0       0         0        0   \n",
       "\n",
       "   swollen_legs  swollen_blood_vessels  puffy_face_and_eyes  enlarged_thyroid  \\\n",
       "0             0                      0                    0                 0   \n",
       "1             0                      0                    0                 0   \n",
       "2             0                      0                    0                 0   \n",
       "3             0                      0                    0                 0   \n",
       "4             0                      0                    0                 0   \n",
       "\n",
       "   brittle_nails  swollen_extremeties  excessive_hunger  \\\n",
       "0              0                    0                 0   \n",
       "1              0                    0                 0   \n",
       "2              0                    0                 0   \n",
       "3              0                    0                 0   \n",
       "4              0                    0                 0   \n",
       "\n",
       "   extra_marital_contacts  drying_and_tingling_lips  slurred_speech  \\\n",
       "0                       0                         0               0   \n",
       "1                       0                         0               0   \n",
       "2                       0                         0               0   \n",
       "3                       0                         0               0   \n",
       "4                       0                         0               0   \n",
       "\n",
       "   knee_pain  hip_joint_pain  muscle_weakness  stiff_neck  swelling_joints  \\\n",
       "0          0               0                0           0                0   \n",
       "1          0               0                0           0                0   \n",
       "2          0               0                0           0                0   \n",
       "3          0               0                0           0                0   \n",
       "4          0               0                0           0                0   \n",
       "\n",
       "   movement_stiffness  spinning_movements  loss_of_balance  unsteadiness  \\\n",
       "0                   0                   0                0             0   \n",
       "1                   0                   0                0             0   \n",
       "2                   0                   0                0             0   \n",
       "3                   0                   0                0             0   \n",
       "4                   0                   0                0             0   \n",
       "\n",
       "   weakness_of_one_body_side  loss_of_smell  bladder_discomfort  \\\n",
       "0                          0              0                   0   \n",
       "1                          0              0                   0   \n",
       "2                          0              0                   0   \n",
       "3                          0              0                   0   \n",
       "4                          0              0                   0   \n",
       "\n",
       "   foul_smell_of urine  continuous_feel_of_urine  passage_of_gases  \\\n",
       "0                    0                         0                 0   \n",
       "1                    0                         0                 0   \n",
       "2                    0                         0                 0   \n",
       "3                    0                         0                 0   \n",
       "4                    0                         0                 0   \n",
       "\n",
       "   internal_itching  toxic_look_(typhos)  depression  irritability  \\\n",
       "0                 0                    0           0             0   \n",
       "1                 0                    0           0             0   \n",
       "2                 0                    0           0             0   \n",
       "3                 0                    0           0             0   \n",
       "4                 0                    0           0             0   \n",
       "\n",
       "   muscle_pain  altered_sensorium  red_spots_over_body  belly_pain  \\\n",
       "0            0                  0                    0           0   \n",
       "1            0                  0                    0           0   \n",
       "2            0                  0                    0           0   \n",
       "3            0                  0                    0           0   \n",
       "4            0                  0                    0           0   \n",
       "\n",
       "   abnormal_menstruation  dischromic _patches  watering_from_eyes  \\\n",
       "0                      0                    1                   0   \n",
       "1                      0                    1                   0   \n",
       "2                      0                    1                   0   \n",
       "3                      0                    1                   0   \n",
       "4                      0                    0                   0   \n",
       "\n",
       "   increased_appetite  polyuria  family_history  mucoid_sputum  rusty_sputum  \\\n",
       "0                   0         0               0              0             0   \n",
       "1                   0         0               0              0             0   \n",
       "2                   0         0               0              0             0   \n",
       "3                   0         0               0              0             0   \n",
       "4                   0         0               0              0             0   \n",
       "\n",
       "   lack_of_concentration  visual_disturbances  receiving_blood_transfusion  \\\n",
       "0                      0                    0                            0   \n",
       "1                      0                    0                            0   \n",
       "2                      0                    0                            0   \n",
       "3                      0                    0                            0   \n",
       "4                      0                    0                            0   \n",
       "\n",
       "   receiving_unsterile_injections  coma  stomach_bleeding  \\\n",
       "0                               0     0                 0   \n",
       "1                               0     0                 0   \n",
       "2                               0     0                 0   \n",
       "3                               0     0                 0   \n",
       "4                               0     0                 0   \n",
       "\n",
       "   distention_of_abdomen  history_of_alcohol_consumption  fluid_overload.1  \\\n",
       "0                      0                               0                 0   \n",
       "1                      0                               0                 0   \n",
       "2                      0                               0                 0   \n",
       "3                      0                               0                 0   \n",
       "4                      0                               0                 0   \n",
       "\n",
       "   blood_in_sputum  prominent_veins_on_calf  palpitations  painful_walking  \\\n",
       "0                0                        0             0                0   \n",
       "1                0                        0             0                0   \n",
       "2                0                        0             0                0   \n",
       "3                0                        0             0                0   \n",
       "4                0                        0             0                0   \n",
       "\n",
       "   pus_filled_pimples  blackheads  scurring  skin_peeling  \\\n",
       "0                   0           0         0             0   \n",
       "1                   0           0         0             0   \n",
       "2                   0           0         0             0   \n",
       "3                   0           0         0             0   \n",
       "4                   0           0         0             0   \n",
       "\n",
       "   silver_like_dusting  small_dents_in_nails  inflammatory_nails  blister  \\\n",
       "0                    0                     0                   0        0   \n",
       "1                    0                     0                   0        0   \n",
       "2                    0                     0                   0        0   \n",
       "3                    0                     0                   0        0   \n",
       "4                    0                     0                   0        0   \n",
       "\n",
       "   red_sore_around_nose  yellow_crust_ooze         prognosis  \n",
       "0                     0                  0  Fungal infection  \n",
       "1                     0                  0  Fungal infection  \n",
       "2                     0                  0  Fungal infection  \n",
       "3                     0                  0  Fungal infection  \n",
       "4                     0                  0  Fungal infection  "
      ]
     },
     "execution_count": 95,
     "metadata": {},
     "output_type": "execute_result"
    }
   ],
   "source": [
    "#Sample Data\n",
    "df.head(5)"
   ]
  },
  {
   "cell_type": "code",
   "execution_count": 96,
   "metadata": {},
   "outputs": [
    {
     "name": "stdout",
     "output_type": "stream",
     "text": [
      "Saved medications.csv\n",
      "Saved df.csv\n",
      "Saved Symptom_severity_df.csv\n",
      "Saved sym_des.csv\n",
      "Saved description.csv\n",
      "Saved workout.csv\n",
      "Saved diets.csv\n",
      "Saved precautions.csv\n"
     ]
    }
   ],
   "source": [
    "# Create a dictionary with DataFrame names as keys and DataFrames as values\n",
    "\n",
    "new_dataframes = {\n",
    "    'medications': medications,\n",
    "    'df': df,\n",
    "    'Symptom_severity_df': Symptom_severity_df,\n",
    "    'sym_des': sym_des,\n",
    "    'description': description,\n",
    "    'workout': workout,\n",
    "    'diets': diets,\n",
    "    'precautions': precautions\n",
    "}\n",
    "import os\n",
    "\n",
    "# Create the directory if it doesn't exist\n",
    "os.makedirs(\"archive/newfiles/\", exist_ok=True)\n",
    "\n",
    "# Loop through the dictionary and write each DataFrame to a CSV file\n",
    "for name, dataframe in new_dataframes.items():\n",
    "    filename = f'{name}.csv'\n",
    "    filepath = f'archive/newfiles/{filename}'\n",
    "    dataframe.to_csv(filepath, index=False)\n",
    "    print(f'Saved {filename}')\n"
   ]
  },
  {
   "cell_type": "code",
   "execution_count": 97,
   "metadata": {},
   "outputs": [
    {
     "data": {
      "image/png": "[encoded data removed]",
      "text/plain": [
       "<Figure size 800x800 with 2 Axes>"
      ]
     },
     "metadata": {},
     "output_type": "display_data"
    }
   ],
   "source": [
    "#Heatmap Diesease and their Symptoms contained in sym_des Dataframe\n",
    "# Creating a boolean DataFrame for symptoms presence\n",
    "symptoms_encoded = pd.get_dummies(sym_des.drop(columns=['Disease']), prefix='', prefix_sep='')\n",
    "\n",
    "# # # Grouping by Disease to combine similar records\n",
    "symptoms_encoded = symptoms_encoded.groupby(sym_des['Disease']).max()\n",
    "# # Generating the heatmap\n",
    "plt.figure(figsize=(8, 8))\n",
    "sns.heatmap(symptoms_encoded.T, cmap='viridis', cbar=True, linewidths=.5)\n",
    "plt.title('Symptom Presence Heatmap Across Diseases')\n",
    "plt.xlabel('Disease')\n",
    "plt.ylabel('Symptoms')\n",
    "plt.show()"
   ]
  },
  {
   "cell_type": "code",
   "execution_count": 98,
   "metadata": {},
   "outputs": [],
   "source": [
    "# Wordcount of precuataions usage in various disease, built using precautions dataframe\n",
    "from wordcloud import WordCloud\n",
    "\n",
    "# Ensure all data is converted to string before joining\n",
    "precautions_visual = precautions.drop(columns=['Disease']).fillna('')\n",
    "\n",
    "# # Convert all values to string and combine into a single text\n",
    "precautions_text = \" \".join(precautions_visual.applymap(str).values.flatten())\n",
    "\n",
    "# # Generate the word cloud\n",
    "wordcloud = WordCloud(width=800, height=400, background_color='green').generate(precautions_text)\n",
    "\n",
    "# # Display the word cloud\n",
    "plt.figure(figsize=(10, 6))\n",
    "plt.imshow(wordcloud, interpolation='bilinear')\n",
    "plt.axis('off')\n",
    "plt.title('Precautions Word Cloud')\n",
    "plt.show()\n"
   ]
  },
  {
   "cell_type": "code",
   "execution_count": 99,
   "metadata": {},
   "outputs": [
    {
     "data": {
      "application/vnd.plotly.v1+json": {
       "config": {
        "plotlyServerURL": "https://plot.ly"
       },
       "data": [
        {
         "alignmentgroup": "True",
         "hovertemplate": "Precaution=%{x}<br>Number of Precautions=%{y}<extra></extra>",
         "legendgroup": "",
         "marker": {
          "color": "#636efa",
          "pattern": {
           "shape": ""
          }
         },
         "name": "",
         "offsetgroup": "",
         "orientation": "v",
         "showlegend": false,
         "textposition": "auto",
         "type": "bar",
         "x": [
          "Consult nearest hospital",
          "acetaminophen",
          "anti itch medicine",
          "antiboitic therapy",
          "avoid abrupt head movment",
          "avoid cold food",
          "avoid fatty spicy food",
          "avoid lying down after eating",
          "avoid non veg food",
          "avoid oily food",
          "avoid open cuts",
          "avoid public places",
          "avoid sudden change in body",
          "avoid too many products",
          "bath twice",
          "check in pulse",
          "cold baths",
          "consult doctor",
          "consult nearest hospital",
          "consume alovera juice",
          "consume milk thistle",
          "consume neem leaves",
          "consume probiotic food",
          "consume witch hazel",
          "cover mouth",
          "dont stand still for long",
          "drink cranberry juice",
          "drink papaya leaf juice",
          "drink plenty of water",
          "drink sugary drinks",
          "drink vitamin c rich drinks",
          "ease back into eating",
          "eat fruits and high fiberous food",
          "eat healthy",
          "eat high calorie vegitables",
          "eliminate milk",
          "exercise",
          "follow up",
          "get away from trigger",
          "get proper sleep",
          "have balanced diet",
          "increase vitamin c intake",
          "keep fever in check",
          "keep hydrated",
          "keep infected area dry",
          "keep mosquitos away",
          "keep mosquitos out",
          "lie down",
          "lie down flat and raise the leg high",
          "lie down on side",
          "limit alcohol",
          "maintain healthy weight",
          "massage",
          "medication",
          "meditation",
          "reduce stress",
          "relax",
          "remove scabs with wet compressed cloth",
          "rest",
          "salt baths",
          "seek help",
          "soak affected area in warm water",
          "stop alcohol consumption",
          "stop bleeding using pressure",
          "stop eating solid food for while",
          "stop irritation",
          "stop taking drug",
          "switch to loose cloothing",
          "take deep breaths",
          "take otc pain reliver",
          "take probiotics",
          "take radioactive iodine treatment",
          "take vaccine",
          "take vapour",
          "try acupuncture",
          "try taking small sips of water",
          "use antibiotics",
          "use clean cloths",
          "use detol or neem in bathing water",
          "use heating pad or cold pack",
          "use hot and cold therapy",
          "use lemon balm",
          "use neem in bathing ",
          "use oinments",
          "use poloroid glasses in sun",
          "use vein compression",
          "vaccination",
          "warm bath with epsom salt",
          "wash hands through",
          "wash hands with warm soapy water",
          "wear ppe if possible"
         ],
         "xaxis": "x",
         "y": [
          3,
          1,
          1,
          1,
          1,
          1,
          6,
          1,
          1,
          1,
          1,
          1,
          1,
          1,
          2,
          1,
          1,
          15,
          3,
          1,
          1,
          1,
          1,
          1,
          1,
          1,
          1,
          1,
          3,
          1,
          1,
          1,
          1,
          7,
          1,
          1,
          6,
          7,
          1,
          2,
          1,
          1,
          1,
          1,
          1,
          1,
          1,
          1,
          1,
          1,
          1,
          1,
          3,
          10,
          2,
          3,
          1,
          1,
          4,
          3,
          1,
          1,
          2,
          1,
          1,
          1,
          1,
          1,
          1,
          1,
          1,
          1,
          1,
          1,
          1,
          1,
          1,
          1,
          1,
          1,
          1,
          1,
          1,
          1,
          1,
          1,
          2,
          1,
          1,
          1,
          1
         ],
         "yaxis": "y"
        }
       ],
       "layout": {
        "barmode": "stack",
        "height": 600,
        "legend": {
         "tracegroupgap": 0
        },
        "template": {
         "data": {
          "bar": [
           {
            "error_x": {
             "color": "#2a3f5f"
            },
            "error_y": {
             "color": "#2a3f5f"
            },
            "marker": {
             "line": {
              "color": "#E5ECF6",
              "width": 0.5
             },
             "pattern": {
              "fillmode": "overlay",
              "size": 10,
              "solidity": 0.2
             }
            },
            "type": "bar"
           }
          ],
          "barpolar": [
           {
            "marker": {
             "line": {
              "color": "#E5ECF6",
              "width": 0.5
             },
             "pattern": {
              "fillmode": "overlay",
              "size": 10,
              "solidity": 0.2
             }
            },
            "type": "barpolar"
           }
          ],
          "carpet": [
           {
            "aaxis": {
             "endlinecolor": "#2a3f5f",
             "gridcolor": "white",
             "linecolor": "white",
             "minorgridcolor": "white",
             "startlinecolor": "#2a3f5f"
            },
            "baxis": {
             "endlinecolor": "#2a3f5f",
             "gridcolor": "white",
             "linecolor": "white",
             "minorgridcolor": "white",
             "startlinecolor": "#2a3f5f"
            },
            "type": "carpet"
           }
          ],
          "choropleth": [
           {
            "colorbar": {
             "outlinewidth": 0,
             "ticks": ""
            },
            "type": "choropleth"
           }
          ],
          "contour": [
           {
            "colorbar": {
             "outlinewidth": 0,
             "ticks": ""
            },
            "colorscale": [
             [
              0,
              "#0d0887"
             ],
             [
              0.1111111111111111,
              "#46039f"
             ],
             [
              0.2222222222222222,
              "#7201a8"
             ],
             [
              0.3333333333333333,
              "#9c179e"
             ],
             [
              0.4444444444444444,
              "#bd3786"
             ],
             [
              0.5555555555555556,
              "#d8576b"
             ],
             [
              0.6666666666666666,
              "#ed7953"
             ],
             [
              0.7777777777777778,
              "#fb9f3a"
             ],
             [
              0.8888888888888888,
              "#fdca26"
             ],
             [
              1,
              "#f0f921"
             ]
            ],
            "type": "contour"
           }
          ],
          "contourcarpet": [
           {
            "colorbar": {
             "outlinewidth": 0,
             "ticks": ""
            },
            "type": "contourcarpet"
           }
          ],
          "heatmap": [
           {
            "colorbar": {
             "outlinewidth": 0,
             "ticks": ""
            },
            "colorscale": [
             [
              0,
              "#0d0887"
             ],
             [
              0.1111111111111111,
              "#46039f"
             ],
             [
              0.2222222222222222,
              "#7201a8"
             ],
             [
              0.3333333333333333,
              "#9c179e"
             ],
             [
              0.4444444444444444,
              "#bd3786"
             ],
             [
              0.5555555555555556,
              "#d8576b"
             ],
             [
              0.6666666666666666,
              "#ed7953"
             ],
             [
              0.7777777777777778,
              "#fb9f3a"
             ],
             [
              0.8888888888888888,
              "#fdca26"
             ],
             [
              1,
              "#f0f921"
             ]
            ],
            "type": "heatmap"
           }
          ],
          "heatmapgl": [
           {
            "colorbar": {
             "outlinewidth": 0,
             "ticks": ""
            },
            "colorscale": [
             [
              0,
              "#0d0887"
             ],
             [
              0.1111111111111111,
              "#46039f"
             ],
             [
              0.2222222222222222,
              "#7201a8"
             ],
             [
              0.3333333333333333,
              "#9c179e"
             ],
             [
              0.4444444444444444,
              "#bd3786"
             ],
             [
              0.5555555555555556,
              "#d8576b"
             ],
             [
              0.6666666666666666,
              "#ed7953"
             ],
             [
              0.7777777777777778,
              "#fb9f3a"
             ],
             [
              0.8888888888888888,
              "#fdca26"
             ],
             [
              1,
              "#f0f921"
             ]
            ],
            "type": "heatmapgl"
           }
          ],
          "histogram": [
           {
            "marker": {
             "pattern": {
              "fillmode": "overlay",
              "size": 10,
              "solidity": 0.2
             }
            },
            "type": "histogram"
           }
          ],
          "histogram2d": [
           {
            "colorbar": {
             "outlinewidth": 0,
             "ticks": ""
            },
            "colorscale": [
             [
              0,
              "#0d0887"
             ],
             [
              0.1111111111111111,
              "#46039f"
             ],
             [
              0.2222222222222222,
              "#7201a8"
             ],
             [
              0.3333333333333333,
              "#9c179e"
             ],
             [
              0.4444444444444444,
              "#bd3786"
             ],
             [
              0.5555555555555556,
              "#d8576b"
             ],
             [
              0.6666666666666666,
              "#ed7953"
             ],
             [
              0.7777777777777778,
              "#fb9f3a"
             ],
             [
              0.8888888888888888,
              "#fdca26"
             ],
             [
              1,
              "#f0f921"
             ]
            ],
            "type": "histogram2d"
           }
          ],
          "histogram2dcontour": [
           {
            "colorbar": {
             "outlinewidth": 0,
             "ticks": ""
            },
            "colorscale": [
             [
              0,
              "#0d0887"
             ],
             [
              0.1111111111111111,
              "#46039f"
             ],
             [
              0.2222222222222222,
              "#7201a8"
             ],
             [
              0.3333333333333333,
              "#9c179e"
             ],
             [
              0.4444444444444444,
              "#bd3786"
             ],
             [
              0.5555555555555556,
              "#d8576b"
             ],
             [
              0.6666666666666666,
              "#ed7953"
             ],
             [
              0.7777777777777778,
              "#fb9f3a"
             ],
             [
              0.8888888888888888,
              "#fdca26"
             ],
             [
              1,
              "#f0f921"
             ]
            ],
            "type": "histogram2dcontour"
           }
          ],
          "mesh3d": [
           {
            "colorbar": {
             "outlinewidth": 0,
             "ticks": ""
            },
            "type": "mesh3d"
           }
          ],
          "parcoords": [
           {
            "line": {
             "colorbar": {
              "outlinewidth": 0,
              "ticks": ""
             }
            },
            "type": "parcoords"
           }
          ],
          "pie": [
           {
            "automargin": true,
            "type": "pie"
           }
          ],
          "scatter": [
           {
            "fillpattern": {
             "fillmode": "overlay",
             "size": 10,
             "solidity": 0.2
            },
            "type": "scatter"
           }
          ],
          "scatter3d": [
           {
            "line": {
             "colorbar": {
              "outlinewidth": 0,
              "ticks": ""
             }
            },
            "marker": {
             "colorbar": {
              "outlinewidth": 0,
              "ticks": ""
             }
            },
            "type": "scatter3d"
           }
          ],
          "scattercarpet": [
           {
            "marker": {
             "colorbar": {
              "outlinewidth": 0,
              "ticks": ""
             }
            },
            "type": "scattercarpet"
           }
          ],
          "scattergeo": [
           {
            "marker": {
             "colorbar": {
              "outlinewidth": 0,
              "ticks": ""
             }
            },
            "type": "scattergeo"
           }
          ],
          "scattergl": [
           {
            "marker": {
             "colorbar": {
              "outlinewidth": 0,
              "ticks": ""
             }
            },
            "type": "scattergl"
           }
          ],
          "scattermapbox": [
           {
            "marker": {
             "colorbar": {
              "outlinewidth": 0,
              "ticks": ""
             }
            },
            "type": "scattermapbox"
           }
          ],
          "scatterpolar": [
           {
            "marker": {
             "colorbar": {
              "outlinewidth": 0,
              "ticks": ""
             }
            },
            "type": "scatterpolar"
           }
          ],
          "scatterpolargl": [
           {
            "marker": {
             "colorbar": {
              "outlinewidth": 0,
              "ticks": ""
             }
            },
            "type": "scatterpolargl"
           }
          ],
          "scatterternary": [
           {
            "marker": {
             "colorbar": {
              "outlinewidth": 0,
              "ticks": ""
             }
            },
            "type": "scatterternary"
           }
          ],
          "surface": [
           {
            "colorbar": {
             "outlinewidth": 0,
             "ticks": ""
            },
            "colorscale": [
             [
              0,
              "#0d0887"
             ],
             [
              0.1111111111111111,
              "#46039f"
             ],
             [
              0.2222222222222222,
              "#7201a8"
             ],
             [
              0.3333333333333333,
              "#9c179e"
             ],
             [
              0.4444444444444444,
              "#bd3786"
             ],
             [
              0.5555555555555556,
              "#d8576b"
             ],
             [
              0.6666666666666666,
              "#ed7953"
             ],
             [
              0.7777777777777778,
              "#fb9f3a"
             ],
             [
              0.8888888888888888,
              "#fdca26"
             ],
             [
              1,
              "#f0f921"
             ]
            ],
            "type": "surface"
           }
          ],
          "table": [
           {
            "cells": {
             "fill": {
              "color": "#EBF0F8"
             },
             "line": {
              "color": "white"
             }
            },
            "header": {
             "fill": {
              "color": "#C8D4E3"
             },
             "line": {
              "color": "white"
             }
            },
            "type": "table"
           }
          ]
         },
         "layout": {
          "annotationdefaults": {
           "arrowcolor": "#2a3f5f",
           "arrowhead": 0,
           "arrowwidth": 1
          },
          "autotypenumbers": "strict",
          "coloraxis": {
           "colorbar": {
            "outlinewidth": 0,
            "ticks": ""
           }
          },
          "colorscale": {
           "diverging": [
            [
             0,
             "#8e0152"
            ],
            [
             0.1,
             "#c51b7d"
            ],
            [
             0.2,
             "#de77ae"
            ],
            [
             0.3,
             "#f1b6da"
            ],
            [
             0.4,
             "#fde0ef"
            ],
            [
             0.5,
             "#f7f7f7"
            ],
            [
             0.6,
             "#e6f5d0"
            ],
            [
             0.7,
             "#b8e186"
            ],
            [
             0.8,
             "#7fbc41"
            ],
            [
             0.9,
             "#4d9221"
            ],
            [
             1,
             "#276419"
            ]
           ],
           "sequential": [
            [
             0,
             "#0d0887"
            ],
            [
             0.1111111111111111,
             "#46039f"
            ],
            [
             0.2222222222222222,
             "#7201a8"
            ],
            [
             0.3333333333333333,
             "#9c179e"
            ],
            [
             0.4444444444444444,
             "#bd3786"
            ],
            [
             0.5555555555555556,
             "#d8576b"
            ],
            [
             0.6666666666666666,
             "#ed7953"
            ],
            [
             0.7777777777777778,
             "#fb9f3a"
            ],
            [
             0.8888888888888888,
             "#fdca26"
            ],
            [
             1,
             "#f0f921"
            ]
           ],
           "sequentialminus": [
            [
             0,
             "#0d0887"
            ],
            [
             0.1111111111111111,
             "#46039f"
            ],
            [
             0.2222222222222222,
             "#7201a8"
            ],
            [
             0.3333333333333333,
             "#9c179e"
            ],
            [
             0.4444444444444444,
             "#bd3786"
            ],
            [
             0.5555555555555556,
             "#d8576b"
            ],
            [
             0.6666666666666666,
             "#ed7953"
            ],
            [
             0.7777777777777778,
             "#fb9f3a"
            ],
            [
             0.8888888888888888,
             "#fdca26"
            ],
            [
             1,
             "#f0f921"
            ]
           ]
          },
          "colorway": [
           "#636efa",
           "#EF553B",
           "#00cc96",
           "#ab63fa",
           "#FFA15A",
           "#19d3f3",
           "#FF6692",
           "#B6E880",
           "#FF97FF",
           "#FECB52"
          ],
          "font": {
           "color": "#2a3f5f"
          },
          "geo": {
           "bgcolor": "white",
           "lakecolor": "white",
           "landcolor": "#E5ECF6",
           "showlakes": true,
           "showland": true,
           "subunitcolor": "white"
          },
          "hoverlabel": {
           "align": "left"
          },
          "hovermode": "closest",
          "mapbox": {
           "style": "light"
          },
          "paper_bgcolor": "white",
          "plot_bgcolor": "#E5ECF6",
          "polar": {
           "angularaxis": {
            "gridcolor": "white",
            "linecolor": "white",
            "ticks": ""
           },
           "bgcolor": "#E5ECF6",
           "radialaxis": {
            "gridcolor": "white",
            "linecolor": "white",
            "ticks": ""
           }
          },
          "scene": {
           "xaxis": {
            "backgroundcolor": "#E5ECF6",
            "gridcolor": "white",
            "gridwidth": 2,
            "linecolor": "white",
            "showbackground": true,
            "ticks": "",
            "zerolinecolor": "white"
           },
           "yaxis": {
            "backgroundcolor": "#E5ECF6",
            "gridcolor": "white",
            "gridwidth": 2,
            "linecolor": "white",
            "showbackground": true,
            "ticks": "",
            "zerolinecolor": "white"
           },
           "zaxis": {
            "backgroundcolor": "#E5ECF6",
            "gridcolor": "white",
            "gridwidth": 2,
            "linecolor": "white",
            "showbackground": true,
            "ticks": "",
            "zerolinecolor": "white"
           }
          },
          "shapedefaults": {
           "line": {
            "color": "#2a3f5f"
           }
          },
          "ternary": {
           "aaxis": {
            "gridcolor": "white",
            "linecolor": "white",
            "ticks": ""
           },
           "baxis": {
            "gridcolor": "white",
            "linecolor": "white",
            "ticks": ""
           },
           "bgcolor": "#E5ECF6",
           "caxis": {
            "gridcolor": "white",
            "linecolor": "white",
            "ticks": ""
           }
          },
          "title": {
           "x": 0.05
          },
          "xaxis": {
           "automargin": true,
           "gridcolor": "white",
           "linecolor": "white",
           "ticks": "",
           "title": {
            "standoff": 15
           },
           "zerolinecolor": "white",
           "zerolinewidth": 2
          },
          "yaxis": {
           "automargin": true,
           "gridcolor": "white",
           "linecolor": "white",
           "ticks": "",
           "title": {
            "standoff": 15
           },
           "zerolinecolor": "white",
           "zerolinewidth": 2
          }
         }
        },
        "title": {
         "text": "Total Count of Each Precaution Across All Conditions"
        },
        "xaxis": {
         "anchor": "y",
         "categoryorder": "total descending",
         "domain": [
          0,
          1
         ],
         "title": {
          "text": "Precaution"
         }
        },
        "yaxis": {
         "anchor": "x",
         "domain": [
          0,
          1
         ],
         "title": {
          "text": "Number of Precautions"
         }
        }
       }
      }
     },
     "metadata": {},
     "output_type": "display_data"
    }
   ],
   "source": [
    "# groups the data by each precaution and counts how many times each one appears across all diseases.\n",
    "\n",
    "import plotly.express as px\n",
    "\n",
    "# Reshape the DataFrame to have one column per precaution type\n",
    "precautions_melted = precautions.melt(id_vars=['Disease'], var_name='Precaution_Type', value_name='Precaution')\n",
    "\n",
    "# Count the occurrence of each precaution for each disease\n",
    "precautions_count = precautions_melted.groupby(['Precaution']).size().reset_index(name='Count')\n",
    "\n",
    "\n",
    "# Create the bar plot using Plotly\n",
    "fig = px.bar(precautions_count, x='Precaution', y='Count', \n",
    "             title='Total Count of Each Precaution Across All Conditions',\n",
    "             labels={'Count': 'Number of Precautions'},\n",
    "             height=600)\n",
    "\n",
    "\n",
    "# Update layout for better visibility\n",
    "fig.update_layout(barmode='stack', xaxis={'categoryorder':'total descending'})\n",
    "\n",
    "# Show the interactive plot\n",
    "fig.show()\n"
   ]
  },
  {
   "cell_type": "code",
   "execution_count": 100,
   "metadata": {},
   "outputs": [],
   "source": [
    "# Creating x and y\n",
    "X = df.drop('prognosis' ,axis=1)\n",
    "y = df['prognosis']\n"
   ]
  },
  {
   "cell_type": "code",
   "execution_count": 101,
   "metadata": {},
   "outputs": [],
   "source": [
    "# Label encoding for y\n",
    "le = LabelEncoder()\n",
    "le.fit(y)\n",
    "Y = le.transform(y)\n"
   ]
  },
  {
   "cell_type": "code",
   "execution_count": 102,
   "metadata": {},
   "outputs": [],
   "source": [
    "# split the data \n",
    "X_train, X_test, y_train, y_test = train_test_split(X, Y, test_size=0.2, random_state=42)\n"
   ]
  },
  {
   "cell_type": "code",
   "execution_count": 103,
   "metadata": {},
   "outputs": [
    {
     "data": {
      "text/plain": [
       "((243, 132), (61, 132), (243,), (61,))"
      ]
     },
     "execution_count": 103,
     "metadata": {},
     "output_type": "execute_result"
    }
   ],
   "source": [
    "# Shape the data\n",
    "\n",
    "X_train.shape,X_test.shape,y_train.shape,y_test.shape\n"
   ]
  },
  {
   "cell_type": "code",
   "execution_count": 104,
   "metadata": {},
   "outputs": [
    {
     "name": "stdout",
     "output_type": "stream",
     "text": [
      "SVC accuracy : 1.0\n",
      "SVC confusion matrix :\n",
      "[[2, 0, 0, ..., 0, 0, 0],\n",
      " [0, 1, 0, ..., 0, 0, 0],\n",
      " [0, 0, 3, ..., 0, 0, 0],\n",
      " ...,\n",
      " [0, 0, 0, ..., 1, 0, 0],\n",
      " [0, 0, 0, ..., 0, 3, 0],\n",
      " [0, 0, 0, ..., 0, 0, 2]]\n",
      "Random Forest accuracy : 1.0\n",
      "Random Forest confusion matrix :\n",
      "[[2, 0, 0, ..., 0, 0, 0],\n",
      " [0, 1, 0, ..., 0, 0, 0],\n",
      " [0, 0, 3, ..., 0, 0, 0],\n",
      " ...,\n",
      " [0, 0, 0, ..., 1, 0, 0],\n",
      " [0, 0, 0, ..., 0, 3, 0],\n",
      " [0, 0, 0, ..., 0, 0, 2]]\n",
      "KNeighbors accuracy : 0.9508196721311475\n",
      "KNeighbors confusion matrix :\n",
      "[[2, 0, 0, ..., 0, 0, 0],\n",
      " [0, 1, 0, ..., 0, 0, 0],\n",
      " [0, 1, 0, ..., 0, 0, 0],\n",
      " ...,\n",
      " [0, 0, 0, ..., 1, 0, 0],\n",
      " [0, 0, 0, ..., 0, 3, 0],\n",
      " [0, 0, 0, ..., 0, 0, 2]]\n",
      "Gradient Boosting accuracy : 0.8360655737704918\n",
      "Gradient Boosting confusion matrix :\n",
      "[[2, 0, 0, ..., 0, 0, 0],\n",
      " [0, 0, 0, ..., 0, 0, 0],\n",
      " [0, 0, 3, ..., 0, 0, 0],\n",
      " ...,\n",
      " [0, 0, 0, ..., 0, 0, 0],\n",
      " [0, 0, 0, ..., 0, 3, 0],\n",
      " [0, 0, 0, ..., 0, 0, 2]]\n",
      "MultinomialNB accuracy : 0.9672131147540983\n",
      "MultinomialNB confusion matrix :\n",
      "[[2, 0, 0, ..., 0, 0, 0],\n",
      " [0, 1, 0, ..., 0, 0, 0],\n",
      " [0, 0, 3, ..., 0, 0, 0],\n",
      " ...,\n",
      " [0, 0, 0, ..., 1, 0, 0],\n",
      " [0, 0, 0, ..., 0, 3, 0],\n",
      " [0, 0, 0, ..., 0, 0, 2]]\n"
     ]
    }
   ],
   "source": [
    "# Here we can train the top best models which can give best accuracy So i can create a Dictionary of models to check which model is more accurate.\n",
    "models = {\n",
    "      'SVC' : SVC(kernel='linear'),\n",
    "      'Random Forest' :RandomForestClassifier(random_state=42,n_estimators=100),\n",
    "      'KNeighbors' : KNeighborsClassifier(n_neighbors=5),\n",
    "      'Gradient Boosting': GradientBoostingClassifier(random_state=42,n_estimators=100),\n",
    "      'MultinomialNB' :MultinomialNB() \n",
    "}\n",
    "for model_name , model in models.items():\n",
    "    # Train model\n",
    "    model.fit(X_train,y_train)\n",
    "    # test model\n",
    "    predictions = model.predict(X_test)\n",
    "    # calculate accuracy\n",
    "    accuracy = accuracy_score(y_test,predictions)\n",
    "    # calculate confusion matrix\n",
    "    cm = confusion_matrix(y_test,predictions)\n",
    "    # print results\n",
    "    print(f\"{model_name} accuracy : {accuracy}\")\n",
    "    print(f\"{model_name} confusion matrix :\")\n",
    "    print(np.array2string(cm,separator=', '))"
   ]
  },
  {
   "cell_type": "code",
   "execution_count": 105,
   "metadata": {},
   "outputs": [
    {
     "data": {
      "text/plain": [
       "1.0"
      ]
     },
     "execution_count": 105,
     "metadata": {},
     "output_type": "execute_result"
    }
   ],
   "source": [
    "# Creating the SVC model\n",
    "svc = SVC(kernel='linear')\n",
    "svc.fit(X_train,y_train)\n",
    "y_pred = svc.predict(X_test)\n",
    "acc = accuracy_score(y_pred,y_test)\n",
    "acc"
   ]
  },
  {
   "cell_type": "code",
   "execution_count": 106,
   "metadata": {},
   "outputs": [],
   "source": [
    "# Path to save the model\n",
    "path = 'archive/working_1//svc.pkl'\n",
    "# Ensure the directory exists\n",
    "os.makedirs(os.path.dirname(path), exist_ok=True)\n",
    "\n",
    "# Save the model\n",
    "with open(path, 'wb') as file:\n",
    "    pickle.dump(svc, file)"
   ]
  },
  {
   "cell_type": "code",
   "execution_count": 107,
   "metadata": {},
   "outputs": [],
   "source": [
    "# load the data-set\n",
    "svc = pickle.load(open(path,'rb'))"
   ]
  },
  {
   "cell_type": "code",
   "execution_count": 108,
   "metadata": {},
   "outputs": [
    {
     "data": {
      "text/plain": [
       "array([[0, 0, 0, 0, 0, 0, 1, 0, 0, 0, 0, 1, 0, 0, 1, 0, 0, 0, 0, 0, 0, 0,\n",
       "        0, 0, 0, 1, 0, 0, 0, 0, 0, 0, 1, 1, 0, 1, 0, 0, 0, 1, 0, 0, 0, 1,\n",
       "        1, 0, 0, 0, 0, 0, 0, 0, 0, 0, 0, 0, 0, 0, 0, 0, 0, 0, 0, 0, 0, 0,\n",
       "        0, 0, 0, 0, 0, 0, 0, 0, 0, 0, 0, 0, 0, 0, 0, 0, 0, 0, 0, 0, 0, 0,\n",
       "        0, 0, 0, 0, 0, 0, 0, 0, 0, 0, 0, 0, 0, 0, 0, 0, 0, 0, 0, 0, 0, 0,\n",
       "        0, 0, 0, 1, 1, 0, 0, 0, 0, 0, 0, 0, 0, 0, 0, 0, 0, 0, 0, 0, 0, 0]],\n",
       "      dtype=int64)"
      ]
     },
     "execution_count": 108,
     "metadata": {},
     "output_type": "execute_result"
    }
   ],
   "source": [
    "# 2d array convert\n",
    "X_test.iloc[0].values.reshape(1,-1)\n"
   ]
  },
  {
   "cell_type": "code",
   "execution_count": 109,
   "metadata": {},
   "outputs": [
    {
     "name": "stdout",
     "output_type": "stream",
     "text": [
      "Most Influential Variables:\n"
     ]
    },
    {
     "data": {
      "text/html": [
       "<div>\n",
       "<style scoped>\n",
       "    .dataframe tbody tr th:only-of-type {\n",
       "        vertical-align: middle;\n",
       "    }\n",
       "\n",
       "    .dataframe tbody tr th {\n",
       "        vertical-align: top;\n",
       "    }\n",
       "\n",
       "    .dataframe thead th {\n",
       "        text-align: right;\n",
       "    }\n",
       "</style>\n",
       "<table border=\"1\" class=\"dataframe\">\n",
       "  <thead>\n",
       "    <tr style=\"text-align: right;\">\n",
       "      <th></th>\n",
       "      <th>Feature</th>\n",
       "      <th>Rank</th>\n",
       "    </tr>\n",
       "  </thead>\n",
       "  <tbody>\n",
       "    <tr>\n",
       "      <th>14</th>\n",
       "      <td>fatigue</td>\n",
       "      <td>1</td>\n",
       "    </tr>\n",
       "    <tr>\n",
       "      <th>11</th>\n",
       "      <td>vomiting</td>\n",
       "      <td>2</td>\n",
       "    </tr>\n",
       "    <tr>\n",
       "      <th>25</th>\n",
       "      <td>high_fever</td>\n",
       "      <td>3</td>\n",
       "    </tr>\n",
       "    <tr>\n",
       "      <th>35</th>\n",
       "      <td>loss_of_appetite</td>\n",
       "      <td>4</td>\n",
       "    </tr>\n",
       "    <tr>\n",
       "      <th>31</th>\n",
       "      <td>headache</td>\n",
       "      <td>5</td>\n",
       "    </tr>\n",
       "  </tbody>\n",
       "</table>\n",
       "</div>"
      ],
      "text/plain": [
       "             Feature  Rank\n",
       "14           fatigue     1\n",
       "11          vomiting     2\n",
       "25        high_fever     3\n",
       "35  loss_of_appetite     4\n",
       "31          headache     5"
      ]
     },
     "execution_count": 109,
     "metadata": {},
     "output_type": "execute_result"
    }
   ],
   "source": [
    "rfe = RFE(estimator=svc, n_features_to_select=1, step=1)\n",
    "\n",
    "# Fit RFE\n",
    "rfe.fit(X_train, y_train)\n",
    "\n",
    "# Get feature rankings\n",
    "feature_importances = rfe.ranking_\n",
    "\n",
    "# Create a DataFrame for better visualization\n",
    "features_df = pd.DataFrame({\n",
    "    'Feature': X_train.columns,\n",
    "    'Rank': feature_importances\n",
    "})\n",
    "\n",
    "# Sort the DataFrame by importance (lower ranking means more important)\n",
    "features_df = features_df.sort_values(by='Rank')\n",
    "\n",
    "print(\"Most Influential Variables:\")\n",
    "\n",
    "features_df.head()"
   ]
  },
  {
   "cell_type": "code",
   "execution_count": 110,
   "metadata": {},
   "outputs": [
    {
     "name": "stdout",
     "output_type": "stream",
     "text": [
      "Model Predictions : [22]\n",
      "Actual Labels : 22\n"
     ]
    }
   ],
   "source": [
    "# now take a pred on this 2d array to check that our model pred correctly or not\n",
    "\n",
    "# test 1 :\n",
    "print('Model Predictions :',svc.predict(X_test.iloc[0].values.reshape(1,-1)))\n",
    "print('Actual Labels :', y_test[0])"
   ]
  },
  {
   "cell_type": "code",
   "execution_count": 111,
   "metadata": {},
   "outputs": [
    {
     "name": "stdout",
     "output_type": "stream",
     "text": [
      "Model Predictions : [28]\n",
      "Actual Labels : 28\n"
     ]
    }
   ],
   "source": [
    "# test 2 :\n",
    "print('Model Predictions :',svc.predict(X_test.iloc[40].values.reshape(1,-1)))\n",
    "print('Actual Labels :', y_test[40])"
   ]
  },
  {
   "cell_type": "code",
   "execution_count": 112,
   "metadata": {},
   "outputs": [
    {
     "name": "stdout",
     "output_type": "stream",
     "text": [
      "[[2 0 0 ... 0 0 0]\n",
      " [0 1 0 ... 0 0 0]\n",
      " [0 0 3 ... 0 0 0]\n",
      " ...\n",
      " [0 0 0 ... 1 0 0]\n",
      " [0 0 0 ... 0 3 0]\n",
      " [0 0 0 ... 0 0 2]]\n"
     ]
    }
   ],
   "source": [
    "# Create confusion matrix\n",
    "confusion = confusion_matrix(y_test, predictions)\n",
    "print(confusion)"
   ]
  },
  {
   "cell_type": "code",
   "execution_count": 113,
   "metadata": {},
   "outputs": [
    {
     "data": {
      "image/png": "[encoded data removed]",
      "text/plain": [
       "<Figure size 1000x700 with 2 Axes>"
      ]
     },
     "metadata": {},
     "output_type": "display_data"
    }
   ],
   "source": [
    "# Create confusion matrix heatmap\n",
    "plt.figure(figsize=(10, 7))\n",
    "sns.heatmap(confusion, annot=True, fmt='d', cmap='Blues')\n",
    "plt.xlabel('Predicted')\n",
    "plt.ylabel('Actual')\n",
    "plt.title('Confusion Matrix')\n",
    "plt.show()"
   ]
  },
  {
   "cell_type": "code",
   "execution_count": 114,
   "metadata": {},
   "outputs": [
    {
     "name": "stdout",
     "output_type": "stream",
     "text": [
      "              precision    recall  f1-score   support\n",
      "\n",
      "           0       1.00      1.00      1.00         2\n",
      "           1       1.00      1.00      1.00         1\n",
      "           2       1.00      1.00      1.00         3\n",
      "           3       1.00      1.00      1.00         1\n",
      "           4       1.00      0.33      0.50         3\n",
      "           6       1.00      1.00      1.00         3\n",
      "           7       1.00      1.00      1.00         1\n",
      "           8       1.00      1.00      1.00         3\n",
      "           9       1.00      1.00      1.00         2\n",
      "          10       0.00      0.00      0.00         0\n",
      "          11       1.00      1.00      1.00         3\n",
      "          12       1.00      1.00      1.00         2\n",
      "          13       1.00      1.00      1.00         2\n",
      "          14       1.00      1.00      1.00         1\n",
      "          19       1.00      1.00      1.00         2\n",
      "          20       1.00      1.00      1.00         1\n",
      "          21       1.00      1.00      1.00         1\n",
      "          22       1.00      1.00      1.00         2\n",
      "          24       1.00      1.00      1.00         2\n",
      "          25       1.00      1.00      1.00         3\n",
      "          26       1.00      1.00      1.00         2\n",
      "          27       1.00      1.00      1.00         1\n",
      "          28       1.00      1.00      1.00         1\n",
      "          29       1.00      1.00      1.00         2\n",
      "          30       1.00      1.00      1.00         4\n",
      "          32       1.00      1.00      1.00         1\n",
      "          33       1.00      1.00      1.00         1\n",
      "          34       1.00      1.00      1.00         2\n",
      "          35       1.00      1.00      1.00         1\n",
      "          36       1.00      1.00      1.00         2\n",
      "          38       1.00      1.00      1.00         1\n",
      "          39       1.00      1.00      1.00         3\n",
      "          40       1.00      1.00      1.00         2\n",
      "\n",
      "    accuracy                           0.97        61\n",
      "   macro avg       0.97      0.95      0.95        61\n",
      "weighted avg       1.00      0.97      0.98        61\n",
      "\n"
     ]
    }
   ],
   "source": [
    "# Create classification report\n",
    "classification = classification_report(y_test, predictions)\n",
    "print(classification)"
   ]
  },
  {
   "cell_type": "code",
   "execution_count": 115,
   "metadata": {},
   "outputs": [
    {
     "name": "stdout",
     "output_type": "stream",
     "text": [
      "Overall Accuracy: 1.0\n"
     ]
    }
   ],
   "source": [
    "# Create overall accuracy\n",
    "accuracy = accuracy_score(y_test, y_pred)\n",
    "print(\"Overall Accuracy:\", accuracy)"
   ]
  },
  {
   "cell_type": "code",
   "execution_count": 116,
   "metadata": {},
   "outputs": [
    {
     "name": "stdout",
     "output_type": "stream",
     "text": [
      "[22 19  8 24  6  4 11 20 21 33  4 29 12 22 11 12 11 36 26 40 39  0 24 14\n",
      " 19 13 25 30 39  8 40  2 34  1  9  0 30 32  9  6 28 30 34  8  4 38  2 30\n",
      " 35 39 25 25  6  7  2 26 13 29 27 36  3]\n"
     ]
    }
   ],
   "source": [
    "# Output validation: Check y_test\n",
    "print(y_test)"
   ]
  },
  {
   "cell_type": "code",
   "execution_count": 117,
   "metadata": {},
   "outputs": [],
   "source": [
    "def helper(dis): # this funtion can give us the symptoms Description,Precautions,Medication,Diet plan,workout \n",
    "    desc = description[description['Disease'] == predicted_disease]['Description']\n",
    "    desc = \" \".join([w for w in desc])\n",
    "\n",
    "    pre = precautions[precautions['Disease'] == dis][['Precaution_1', 'Precaution_2', 'Precaution_3', 'Precaution_4']]\n",
    "    pre = [col for col in pre.values]\n",
    "\n",
    "    med = medications[medications['Disease'] == dis]['Medication']\n",
    "    med = [med for med in med.values]\n",
    "\n",
    "    die = diets[diets['Disease'] == dis]['Diet']\n",
    "    die = [die for die in die.values]\n",
    "\n",
    "    wrkout = workout[workout['disease'] == dis] ['workout']\n",
    "\n",
    "\n",
    "    return desc,pre,med,die,wrkout\n",
    "\n",
    "# here i create a dictonary 1- symptoms and list 1- diseases because we transform our data in lobelEncoder (0,1) but the patient or user can not understand that which number represented the disease or symptom \n",
    "\n",
    "symptoms_dict = {'itching': 0, 'skin_rash': 1, 'nodal_skin_eruptions': 2, 'continuous_sneezing': 3, 'shivering': 4, 'chills': 5, 'joint_pain': 6, 'stomach_pain': 7, 'acidity': 8, 'ulcers_on_tongue': 9, 'muscle_wasting': 10, 'vomiting': 11, 'burning_micturition': 12, 'spotting_ urination': 13, 'fatigue': 14, 'weight_gain': 15, 'anxiety': 16, 'cold_hands_and_feets': 17, 'mood_swings': 18, 'weight_loss': 19, 'restlessness': 20, 'lethargy': 21, 'patches_in_throat': 22, 'irregular_sugar_level': 23, 'cough': 24, 'high_fever': 25, 'sunken_eyes': 26, 'breathlessness': 27, 'sweating': 28, 'dehydration': 29, 'indigestion': 30, 'headache': 31, 'yellowish_skin': 32, 'dark_urine': 33, 'nausea': 34, 'loss_of_appetite': 35, 'pain_behind_the_eyes': 36, 'back_pain': 37, 'constipation': 38, 'abdominal_pain': 39, 'diarrhoea': 40, 'mild_fever': 41, 'yellow_urine': 42, 'yellowing_of_eyes': 43, 'acute_liver_failure': 44, 'fluid_overload': 45, 'swelling_of_stomach': 46, 'swelled_lymph_nodes': 47, 'malaise': 48, 'blurred_and_distorted_vision': 49, 'phlegm': 50, 'throat_irritation': 51, 'redness_of_eyes': 52, 'sinus_pressure': 53, 'runny_nose': 54, 'congestion': 55, 'chest_pain': 56, 'weakness_in_limbs': 57, 'fast_heart_rate': 58, 'pain_during_bowel_movements': 59, 'pain_in_anal_region': 60, 'bloody_stool': 61, 'irritation_in_anus': 62, 'neck_pain': 63, 'dizziness': 64, 'cramps': 65, 'bruising': 66, 'obesity': 67, 'swollen_legs': 68, 'swollen_blood_vessels': 69, 'puffy_face_and_eyes': 70, 'enlarged_thyroid': 71, 'brittle_nails': 72, 'swollen_extremeties': 73, 'excessive_hunger': 74, 'extra_marital_contacts': 75, 'drying_and_tingling_lips': 76, 'slurred_speech': 77, 'knee_pain': 78, 'hip_joint_pain': 79, 'muscle_weakness': 80, 'stiff_neck': 81, 'swelling_joints': 82, 'movement_stiffness': 83, 'spinning_movements': 84, 'loss_of_balance': 85, 'unsteadiness': 86, 'weakness_of_one_body_side': 87, 'loss_of_smell': 88, 'bladder_discomfort': 89, 'foul_smell_of urine': 90, 'continuous_feel_of_urine': 91, 'passage_of_gases': 92, 'internal_itching': 93, 'toxic_look_(typhos)': 94, 'depression': 95, 'irritability': 96, 'muscle_pain': 97, 'altered_sensorium': 98, 'red_spots_over_body': 99, 'belly_pain': 100, 'abnormal_menstruation': 101, 'dischromic _patches': 102, 'watering_from_eyes': 103, 'increased_appetite': 104, 'polyuria': 105, 'family_history': 106, 'mucoid_sputum': 107, 'rusty_sputum': 108, 'lack_of_concentration': 109, 'visual_disturbances': 110, 'receiving_blood_transfusion': 111, 'receiving_unsterile_injections': 112, 'coma': 113, 'stomach_bleeding': 114, 'distention_of_abdomen': 115, 'history_of_alcohol_consumption': 116, 'fluid_overload.1': 117, 'blood_in_sputum': 118, 'prominent_veins_on_calf': 119, 'palpitations': 120, 'painful_walking': 121, 'pus_filled_pimples': 122, 'blackheads': 123, 'scurring': 124, 'skin_peeling': 125, 'silver_like_dusting': 126, 'small_dents_in_nails': 127, 'inflammatory_nails': 128, 'blister': 129, 'red_sore_around_nose': 130, 'yellow_crust_ooze': 131}\n",
    "diseases_list = {15: 'Fungal infection', 4: 'Allergy', 16: 'GERD', 9: 'Chronic cholestasis', 14: 'Drug Reaction', 33: 'Peptic ulcer diseae', 1: 'AIDS', 12: 'Diabetes ', 17: 'Gastroenteritis', 6: 'Bronchial Asthma', 23: 'Hypertension ', 30: 'Migraine', 7: 'Cervical spondylosis', 32: 'Paralysis (brain hemorrhage)', 28: 'Jaundice', 29: 'Malaria', 8: 'Chicken pox', 11: 'Dengue', 37: 'Typhoid', 40: 'hepatitis A', 19: 'Hepatitis B', 20: 'Hepatitis C', 21: 'Hepatitis D', 22: 'Hepatitis E', 3: 'Alcoholic hepatitis', 36: 'Tuberculosis', 10: 'Common Cold', 34: 'Pneumonia', 13: 'Dimorphic hemmorhoids(piles)', 18: 'Heart attack', 39: 'Varicose veins', 26: 'Hypothyroidism', 24: 'Hyperthyroidism', 25: 'Hypoglycemia', 31: 'Osteoarthristis', 5: 'Arthritis', 0: '(vertigo) Paroymsal  Positional Vertigo', 2: 'Acne', 38: 'Urinary tract infection', 35: 'Psoriasis', 27: 'Impetigo'}\n",
    "\n",
    "# Model Prediction function\n",
    "def given_predicted_value(patient_symptoms):\n",
    "    input_vector = np.zeros(len(symptoms_dict))\n",
    "    for item in patient_symptoms:\n",
    "        input_vector[symptoms_dict[item]] = 1\n",
    "    return diseases_list[svc.predict([input_vector])[0]]"
   ]
  },
  {
   "cell_type": "code",
   "execution_count": 118,
   "metadata": {},
   "outputs": [
    {
     "name": "stdout",
     "output_type": "stream",
     "text": [
      "=================predicted disease============\n",
      "Heart attack\n",
      "=================description==================\n",
      "Heart attack is a sudden and severe reduction in blood flow to the heart muscle.\n",
      "=================precautions==================\n"
     ]
    },
    {
     "ename": "IndexError",
     "evalue": "list index out of range",
     "output_type": "error",
     "traceback": [
      "\u001b[1;31m---------------------------------------------------------------------------\u001b[0m",
      "\u001b[1;31mIndexError\u001b[0m                                Traceback (most recent call last)",
      "Cell \u001b[1;32mIn[118], line 17\u001b[0m\n\u001b[0;32m     15\u001b[0m \u001b[38;5;28mprint\u001b[39m(\u001b[38;5;124m\"\u001b[39m\u001b[38;5;124m=================precautions==================\u001b[39m\u001b[38;5;124m\"\u001b[39m)\n\u001b[0;32m     16\u001b[0m i \u001b[38;5;241m=\u001b[39m \u001b[38;5;241m1\u001b[39m\n\u001b[1;32m---> 17\u001b[0m \u001b[38;5;28;01mfor\u001b[39;00m p_i \u001b[38;5;129;01min\u001b[39;00m pre[\u001b[38;5;241m0\u001b[39m]:\n\u001b[0;32m     18\u001b[0m     \u001b[38;5;28mprint\u001b[39m(i, \u001b[38;5;124m\"\u001b[39m\u001b[38;5;124m: \u001b[39m\u001b[38;5;124m\"\u001b[39m, p_i)\n\u001b[0;32m     19\u001b[0m     i \u001b[38;5;241m+\u001b[39m\u001b[38;5;241m=\u001b[39m \u001b[38;5;241m1\u001b[39m\n",
      "\u001b[1;31mIndexError\u001b[0m: list index out of range"
     ]
    }
   ],
   "source": [
    "symptoms = input(\"Enter your symptoms.......\")\n",
    "# Split the user's input into a list of symptoms (assuming they are comma-separated) # itching,skin_rash,nodal_skin_eruptions\n",
    "user_symptoms = [s.strip() for s in symptoms.split(',')]\n",
    "# Remove any extra characters, if any\n",
    "user_symptoms = [symptom.strip(\"[]' \") for symptom in user_symptoms]\n",
    "# Remove any extra characters, if any\n",
    "predicted_disease = given_predicted_value(user_symptoms)\n",
    "\n",
    "desc, pre, med, die, wrkout = helper(predicted_disease)\n",
    "\n",
    "print(\"=================predicted disease============\")\n",
    "print(predicted_disease)\n",
    "print(\"=================description==================\")\n",
    "print(desc)\n",
    "print(\"=================precautions==================\")\n",
    "i = 1\n",
    "for p_i in pre[0]:\n",
    "    print(i, \": \", p_i)\n",
    "    i += 1\n",
    "\n",
    "print(\"=================medications==================\")\n",
    "for m_i in med:\n",
    "    print(i, \": \", m_i)\n",
    "    i += 1\n",
    "\n",
    "print(\"=================workout==================\")\n",
    "for w_i in wrkout:\n",
    "    print(i, \": \", w_i)\n",
    "    i += 1\n",
    "\n",
    "print(\"=================diets==================\")\n",
    "for d_i in die:\n",
    "    print(i, \": \", d_i)\n",
    "    i += 1"
   ]
  },
  {
   "cell_type": "code",
   "execution_count": 119,
   "metadata": {},
   "outputs": [
    {
     "name": "stdout",
     "output_type": "stream",
     "text": [
      "Most Influential Variables:\n",
      "                  Feature  Importance_1  Importance_2  Importance_3  \\\n",
      "0                 itching      0.021351      0.019711      0.019809   \n",
      "1               skin_rash      0.009038      0.008677      0.009243   \n",
      "2    nodal_skin_eruptions      0.006314      0.007892      0.006793   \n",
      "3     continuous_sneezing      0.001990      0.002895      0.003059   \n",
      "4               shivering      0.003232      0.002895      0.002651   \n",
      "..                    ...           ...           ...           ...   \n",
      "127  small_dents_in_nails      0.005248      0.004744      0.005014   \n",
      "128    inflammatory_nails      0.004849      0.005637      0.004231   \n",
      "129               blister      0.009418      0.009088      0.009539   \n",
      "130  red_sore_around_nose      0.003572      0.004167      0.003763   \n",
      "131     yellow_crust_ooze      0.004375      0.003825      0.004470   \n",
      "\n",
      "     Importance_4  Importance_5  Importance_6  Importance_7  Importance_8  \\\n",
      "0        0.020620      0.019619      0.019944      0.020297      0.019307   \n",
      "1        0.009332      0.009439      0.009703      0.009326      0.008883   \n",
      "2        0.006431      0.006607      0.006340      0.006556      0.007279   \n",
      "3        0.003039      0.002400      0.002703      0.002906      0.003248   \n",
      "4        0.002720      0.003018      0.002599      0.002985      0.002553   \n",
      "..            ...           ...           ...           ...           ...   \n",
      "127      0.005475      0.005026      0.004686      0.004761      0.005639   \n",
      "128      0.004329      0.004726      0.005441      0.004829      0.005693   \n",
      "129      0.009763      0.008647      0.009587      0.009051      0.009019   \n",
      "130      0.003848      0.004227      0.004031      0.003837      0.004013   \n",
      "131      0.003927      0.003978      0.003817      0.004415      0.003824   \n",
      "\n",
      "     Importance_9  \n",
      "0        0.021189  \n",
      "1        0.009660  \n",
      "2        0.006531  \n",
      "3        0.003045  \n",
      "4        0.002682  \n",
      "..            ...  \n",
      "127      0.004779  \n",
      "128      0.004878  \n",
      "129      0.009550  \n",
      "130      0.003977  \n",
      "131      0.004557  \n",
      "\n",
      "[132 rows x 10 columns]\n"
     ]
    }
   ],
   "source": [
    "## Finding difference in importances across random states\n",
    "all_importances_df = pd.DataFrame()\n",
    "for i in range(1, 10):\n",
    "    rf_model = RandomForestClassifier(n_estimators=500, random_state=i)\n",
    "    rf_model = rf_model.fit(X_train, y_train)\n",
    "    rf_predictions = rf_model.predict(X_test)\n",
    "    rf_feature_importances = rf_model.feature_importances_\n",
    "\n",
    "    iteration_df = pd.DataFrame({\n",
    "        'Feature': X_train.columns,\n",
    "        f'Importance_{i}': rf_feature_importances\n",
    "    })\n",
    "    \n",
    "    ##Set up if condition for first iteration\n",
    "    if all_importances_df.empty:\n",
    "        all_importances_df = iteration_df\n",
    "\n",
    "    else:\n",
    "        all_importances_df = pd.merge(all_importances_df, iteration_df, on='Feature', how='outer')\n",
    "print(\"Most Influential Variables:\")\n",
    "print(all_importances_df)"
   ]
  },
  {
   "cell_type": "code",
   "execution_count": 120,
   "metadata": {},
   "outputs": [
    {
     "data": {
      "text/plain": [
       "count    132.000000\n",
       "mean      14.068182\n",
       "std        7.080985\n",
       "min        0.000000\n",
       "25%        9.000000\n",
       "50%       14.000000\n",
       "75%       19.250000\n",
       "max       32.000000\n",
       "Name: Range, dtype: float64"
      ]
     },
     "execution_count": 120,
     "metadata": {},
     "output_type": "execute_result"
    }
   ],
   "source": [
    "# Creating a ranking system rather than exact percentages for features\n",
    "all_importances_df_ranked = all_importances_df.copy()\n",
    "columns_to_rank = all_importances_df_ranked.columns.difference(['Feature'])\n",
    "\n",
    "for column in columns_to_rank:\n",
    "    all_importances_df_ranked[column] = all_importances_df_ranked[column].rank(method='min')\n",
    "\n",
    "all_importances_df_ranked.head()\n"
   ]
  },
  {
   "cell_type": "code",
   "execution_count": 121,
   "metadata": {},
   "outputs": [
    {
     "data": {
      "text/html": [
       "<div>\n",
       "<style scoped>\n",
       "    .dataframe tbody tr th:only-of-type {\n",
       "        vertical-align: middle;\n",
       "    }\n",
       "\n",
       "    .dataframe tbody tr th {\n",
       "        vertical-align: top;\n",
       "    }\n",
       "\n",
       "    .dataframe thead th {\n",
       "        text-align: right;\n",
       "    }\n",
       "</style>\n",
       "<table border=\"1\" class=\"dataframe\">\n",
       "  <thead>\n",
       "    <tr style=\"text-align: right;\">\n",
       "      <th></th>\n",
       "      <th>Feature</th>\n",
       "      <th>Importance_1</th>\n",
       "      <th>Importance_2</th>\n",
       "      <th>Importance_3</th>\n",
       "      <th>Importance_4</th>\n",
       "      <th>Importance_5</th>\n",
       "      <th>Importance_6</th>\n",
       "      <th>Importance_7</th>\n",
       "      <th>Importance_8</th>\n",
       "      <th>Importance_9</th>\n",
       "    </tr>\n",
       "  </thead>\n",
       "  <tbody>\n",
       "    <tr>\n",
       "      <th>0</th>\n",
       "      <td>itching</td>\n",
       "      <td>132.0</td>\n",
       "      <td>130.0</td>\n",
       "      <td>130.0</td>\n",
       "      <td>131.0</td>\n",
       "      <td>130.0</td>\n",
       "      <td>130.0</td>\n",
       "      <td>129.0</td>\n",
       "      <td>129.0</td>\n",
       "      <td>132.0</td>\n",
       "    </tr>\n",
       "    <tr>\n",
       "      <th>1</th>\n",
       "      <td>skin_rash</td>\n",
       "      <td>97.0</td>\n",
       "      <td>88.0</td>\n",
       "      <td>97.0</td>\n",
       "      <td>100.0</td>\n",
       "      <td>101.0</td>\n",
       "      <td>105.0</td>\n",
       "      <td>100.0</td>\n",
       "      <td>94.0</td>\n",
       "      <td>102.0</td>\n",
       "    </tr>\n",
       "    <tr>\n",
       "      <th>2</th>\n",
       "      <td>nodal_skin_eruptions</td>\n",
       "      <td>56.0</td>\n",
       "      <td>83.0</td>\n",
       "      <td>69.0</td>\n",
       "      <td>59.0</td>\n",
       "      <td>61.0</td>\n",
       "      <td>61.0</td>\n",
       "      <td>61.0</td>\n",
       "      <td>76.0</td>\n",
       "      <td>63.0</td>\n",
       "    </tr>\n",
       "    <tr>\n",
       "      <th>3</th>\n",
       "      <td>continuous_sneezing</td>\n",
       "      <td>8.0</td>\n",
       "      <td>15.0</td>\n",
       "      <td>19.0</td>\n",
       "      <td>15.0</td>\n",
       "      <td>10.0</td>\n",
       "      <td>13.0</td>\n",
       "      <td>11.0</td>\n",
       "      <td>18.0</td>\n",
       "      <td>13.0</td>\n",
       "    </tr>\n",
       "    <tr>\n",
       "      <th>4</th>\n",
       "      <td>shivering</td>\n",
       "      <td>21.0</td>\n",
       "      <td>16.0</td>\n",
       "      <td>12.0</td>\n",
       "      <td>13.0</td>\n",
       "      <td>17.0</td>\n",
       "      <td>12.0</td>\n",
       "      <td>14.0</td>\n",
       "      <td>10.0</td>\n",
       "      <td>11.0</td>\n",
       "    </tr>\n",
       "  </tbody>\n",
       "</table>\n",
       "</div>"
      ],
      "text/plain": [
       "                Feature  Importance_1  Importance_2  Importance_3  \\\n",
       "0               itching         132.0         130.0         130.0   \n",
       "1             skin_rash          97.0          88.0          97.0   \n",
       "2  nodal_skin_eruptions          56.0          83.0          69.0   \n",
       "3   continuous_sneezing           8.0          15.0          19.0   \n",
       "4             shivering          21.0          16.0          12.0   \n",
       "\n",
       "   Importance_4  Importance_5  Importance_6  Importance_7  Importance_8  \\\n",
       "0         131.0         130.0         130.0         129.0         129.0   \n",
       "1         100.0         101.0         105.0         100.0          94.0   \n",
       "2          59.0          61.0          61.0          61.0          76.0   \n",
       "3          15.0          10.0          13.0          11.0          18.0   \n",
       "4          13.0          17.0          12.0          14.0          10.0   \n",
       "\n",
       "   Importance_9  \n",
       "0         132.0  \n",
       "1         102.0  \n",
       "2          63.0  \n",
       "3          13.0  \n",
       "4          11.0  "
      ]
     },
     "execution_count": 121,
     "metadata": {},
     "output_type": "execute_result"
    }
   ],
   "source": [
    "# Analysis for differences in feature rankings\n",
    "all_importances_df_ranked_analysis = pd.DataFrame()\n",
    "all_importances_df_ranked_analysis['Mean'] = all_importances_df_ranked.iloc[:, 1:].mean(axis=1)\n",
    "all_importances_df_ranked_analysis['Median'] = all_importances_df_ranked.iloc[:, 1:].median(axis=1)\n",
    "all_importances_df_ranked_analysis['Min'] = all_importances_df_ranked.iloc[:, 1:].min(axis=1)\n",
    "all_importances_df_ranked_analysis['Max'] = all_importances_df_ranked.iloc[:, 1:].max(axis=1)\n",
    "all_importances_df_ranked_analysis['Std'] = all_importances_df_ranked.iloc[:, 1:].std(axis=1)\n",
    "\n",
    "all_importances_df_ranked_analysis['Range'] = all_importances_df_ranked_analysis['Max'] - all_importances_df_ranked_analysis['Min'] \n",
    "all_importances_df_ranked_analysis['Range'].describe()"
   ]
  },
  {
   "cell_type": "code",
   "execution_count": 122,
   "metadata": {},
   "outputs": [],
   "source": [
    "# Analysis: How much does the importance of each feature vary across the different random states?\n",
    "analysis_all_importances_df = pd.DataFrame()\n",
    "analysis_all_importances_df['Mean'] = all_importances_df.iloc[:, 1:].mean(axis=1)\n",
    "analysis_all_importances_df['Median'] = all_importances_df.iloc[:, 1:].median(axis=1)\n",
    "analysis_all_importances_df['Min'] = all_importances_df.iloc[:, 1:].min(axis=1)\n",
    "analysis_all_importances_df['Max'] = all_importances_df.iloc[:, 1:].max(axis=1)\n",
    "analysis_all_importances_df['Std'] = all_importances_df.iloc[:, 1:].std(axis=1)\n"
   ]
  },
  {
   "cell_type": "code",
   "execution_count": 123,
   "metadata": {},
   "outputs": [
    {
     "data": {
      "text/plain": [
       "count    132.000000\n",
       "mean       0.000487\n",
       "std        0.000187\n",
       "min        0.000000\n",
       "25%        0.000362\n",
       "50%        0.000468\n",
       "75%        0.000619\n",
       "max        0.001002\n",
       "Name: Std, dtype: float64"
      ]
     },
     "execution_count": 123,
     "metadata": {},
     "output_type": "execute_result"
    }
   ],
   "source": [
    "# Analysis: How much does the importance of each feature vary across the different random states?\n",
    "analysis_all_importances_df['Std'].describe()"
   ]
  },
  {
   "cell_type": "code",
   "execution_count": 124,
   "metadata": {},
   "outputs": [
    {
     "name": "stdout",
     "output_type": "stream",
     "text": [
      "                  Feature  Importance\n",
      "0                 itching    0.021351\n",
      "1               skin_rash    0.009038\n",
      "2    nodal_skin_eruptions    0.006314\n",
      "3     continuous_sneezing    0.001990\n",
      "4               shivering    0.003232\n",
      "..                    ...         ...\n",
      "127  small_dents_in_nails    0.005248\n",
      "128    inflammatory_nails    0.004849\n",
      "129               blister    0.009418\n",
      "130  red_sore_around_nose    0.003572\n",
      "131     yellow_crust_ooze    0.004375\n",
      "\n",
      "[132 rows x 2 columns]\n"
     ]
    }
   ],
   "source": [
    "# Creating a single column for comparison against SVC model and further analysis\n",
    "features_rf_df = all_importances_df[['Feature', 'Importance_1']].copy()\n",
    "features_rf_df.rename(columns={'Importance_1': 'Importance'}, inplace=True)\n",
    "\n",
    "print(features_rf_df)"
   ]
  },
  {
   "cell_type": "code",
   "execution_count": 125,
   "metadata": {},
   "outputs": [
    {
     "data": {
      "image/png": "[encoded data removed]",
      "text/plain": [
       "<Figure size 1000x600 with 1 Axes>"
      ]
     },
     "metadata": {},
     "output_type": "display_data"
    }
   ],
   "source": [
    "# Top 10 most important features in RF Model\n",
    "features_rf_df = features_rf_df.sort_values(by='Importance', ascending=False)\n",
    "\n",
    "top_rf_features = features_rf_df.head(10)\n",
    "\n",
    "\n",
    "plt.figure(figsize=(10, 6))\n",
    "plt.barh(top_rf_features['Feature'], top_rf_features['Importance'])\n",
    "plt.xlabel('Importance')\n",
    "plt.ylabel('Feature')\n",
    "plt.title('Top 10 Feature Importances in Random Forest Model')\n",
    "plt.gca().invert_yaxis()\n",
    "plt.show()"
   ]
  },
  {
   "cell_type": "code",
   "execution_count": 126,
   "metadata": {},
   "outputs": [
    {
     "data": {
      "text/html": [
       "<div>\n",
       "<style scoped>\n",
       "    .dataframe tbody tr th:only-of-type {\n",
       "        vertical-align: middle;\n",
       "    }\n",
       "\n",
       "    .dataframe tbody tr th {\n",
       "        vertical-align: top;\n",
       "    }\n",
       "\n",
       "    .dataframe thead th {\n",
       "        text-align: right;\n",
       "    }\n",
       "</style>\n",
       "<table border=\"1\" class=\"dataframe\">\n",
       "  <thead>\n",
       "    <tr style=\"text-align: right;\">\n",
       "      <th></th>\n",
       "      <th>Feature</th>\n",
       "      <th>RF Rank</th>\n",
       "    </tr>\n",
       "  </thead>\n",
       "  <tbody>\n",
       "    <tr>\n",
       "      <th>0</th>\n",
       "      <td>itching</td>\n",
       "      <td>1.0</td>\n",
       "    </tr>\n",
       "    <tr>\n",
       "      <th>14</th>\n",
       "      <td>fatigue</td>\n",
       "      <td>2.0</td>\n",
       "    </tr>\n",
       "    <tr>\n",
       "      <th>97</th>\n",
       "      <td>muscle_pain</td>\n",
       "      <td>3.0</td>\n",
       "    </tr>\n",
       "    <tr>\n",
       "      <th>33</th>\n",
       "      <td>dark_urine</td>\n",
       "      <td>4.0</td>\n",
       "    </tr>\n",
       "    <tr>\n",
       "      <th>43</th>\n",
       "      <td>yellowing_of_eyes</td>\n",
       "      <td>5.0</td>\n",
       "    </tr>\n",
       "  </tbody>\n",
       "</table>\n",
       "</div>"
      ],
      "text/plain": [
       "              Feature  RF Rank\n",
       "0             itching      1.0\n",
       "14            fatigue      2.0\n",
       "97        muscle_pain      3.0\n",
       "33         dark_urine      4.0\n",
       "43  yellowing_of_eyes      5.0"
      ]
     },
     "execution_count": 126,
     "metadata": {},
     "output_type": "execute_result"
    }
   ],
   "source": [
    "# Ranking top features\n",
    "features_rf_ranked = features_rf_df.copy()\n",
    "features_rf_ranked['RF Rank'] = features_rf_ranked['Importance'].rank(ascending=False)\n",
    "features_rf_ranked.drop('Importance', axis=1, inplace=True)\n",
    "features_rf_ranked.head()"
   ]
  },
  {
   "cell_type": "code",
   "execution_count": 127,
   "metadata": {},
   "outputs": [
    {
     "name": "stdout",
     "output_type": "stream",
     "text": [
      "Overall Accuracy: 1.0\n"
     ]
    }
   ],
   "source": [
    "# Accuracy of RF model\n",
    "accuracy_rf = accuracy_score(y_test, y_pred)\n",
    "print(\"Overall Accuracy:\", accuracy_rf)"
   ]
  },
  {
   "cell_type": "code",
   "execution_count": 128,
   "metadata": {},
   "outputs": [
    {
     "name": "stdout",
     "output_type": "stream",
     "text": [
      "              precision    recall  f1-score   support\n",
      "\n",
      "           0       1.00      1.00      1.00         2\n",
      "           1       1.00      1.00      1.00         1\n",
      "           2       1.00      1.00      1.00         3\n",
      "           3       1.00      1.00      1.00         1\n",
      "           4       1.00      1.00      1.00         3\n",
      "           6       1.00      1.00      1.00         3\n",
      "           7       1.00      1.00      1.00         1\n",
      "           8       1.00      1.00      1.00         3\n",
      "           9       1.00      1.00      1.00         2\n",
      "          11       1.00      1.00      1.00         3\n",
      "          12       1.00      1.00      1.00         2\n",
      "          13       1.00      1.00      1.00         2\n",
      "          14       1.00      1.00      1.00         1\n",
      "          19       1.00      1.00      1.00         2\n",
      "          20       1.00      1.00      1.00         1\n",
      "          21       1.00      1.00      1.00         1\n",
      "          22       1.00      1.00      1.00         2\n",
      "          24       1.00      1.00      1.00         2\n",
      "          25       1.00      1.00      1.00         3\n",
      "          26       1.00      1.00      1.00         2\n",
      "          27       1.00      1.00      1.00         1\n",
      "          28       1.00      1.00      1.00         1\n",
      "          29       1.00      1.00      1.00         2\n",
      "          30       1.00      1.00      1.00         4\n",
      "          32       1.00      1.00      1.00         1\n",
      "          33       1.00      1.00      1.00         1\n",
      "          34       1.00      1.00      1.00         2\n",
      "          35       1.00      1.00      1.00         1\n",
      "          36       1.00      1.00      1.00         2\n",
      "          38       1.00      1.00      1.00         1\n",
      "          39       1.00      1.00      1.00         3\n",
      "          40       1.00      1.00      1.00         2\n",
      "\n",
      "    accuracy                           1.00        61\n",
      "   macro avg       1.00      1.00      1.00        61\n",
      "weighted avg       1.00      1.00      1.00        61\n",
      "\n"
     ]
    }
   ],
   "source": [
    "# Classification report of RF Model\n",
    "classification_rf = classification_report(y_test, y_pred)\n",
    "print(classification_rf)"
   ]
  },
  {
   "cell_type": "code",
   "execution_count": 129,
   "metadata": {},
   "outputs": [
    {
     "name": "stdout",
     "output_type": "stream",
     "text": [
      "Confusion Matrix:\n",
      "[[2 0 0 ... 0 0 0]\n",
      " [0 1 0 ... 0 0 0]\n",
      " [0 0 3 ... 0 0 0]\n",
      " ...\n",
      " [0 0 0 ... 1 0 0]\n",
      " [0 0 0 ... 0 3 0]\n",
      " [0 0 0 ... 0 0 2]]\n"
     ]
    }
   ],
   "source": [
    "# Confusion report of RF model\n",
    "conf_rf = confusion_matrix(y_test, y_pred)\n",
    "print(\"Confusion Matrix:\")\n",
    "print(conf_rf)"
   ]
  },
  {
   "cell_type": "code",
   "execution_count": 130,
   "metadata": {},
   "outputs": [
    {
     "data": {
      "image/png": "[encoded data removed]",
      "text/plain": [
       "<Figure size 1000x700 with 2 Axes>"
      ]
     },
     "metadata": {},
     "output_type": "display_data"
    }
   ],
   "source": [
    "# Confusion matrix heatmap of RF Model\n",
    "plt.figure(figsize=(10, 7))\n",
    "sns.heatmap(conf_rf, annot=True, fmt='d', cmap='Blues')\n",
    "plt.xlabel('Predicted')\n",
    "plt.ylabel('Actual')\n",
    "plt.title('Confusion Matrix')\n",
    "plt.show()"
   ]
  },
  {
   "cell_type": "code",
   "execution_count": 131,
   "metadata": {},
   "outputs": [
    {
     "data": {
      "text/html": [
       "<div>\n",
       "<style scoped>\n",
       "    .dataframe tbody tr th:only-of-type {\n",
       "        vertical-align: middle;\n",
       "    }\n",
       "\n",
       "    .dataframe tbody tr th {\n",
       "        vertical-align: top;\n",
       "    }\n",
       "\n",
       "    .dataframe thead th {\n",
       "        text-align: right;\n",
       "    }\n",
       "</style>\n",
       "<table border=\"1\" class=\"dataframe\">\n",
       "  <thead>\n",
       "    <tr style=\"text-align: right;\">\n",
       "      <th></th>\n",
       "      <th>Feature</th>\n",
       "      <th>Rank</th>\n",
       "      <th>RF Rank</th>\n",
       "      <th>Rank_Difference</th>\n",
       "    </tr>\n",
       "  </thead>\n",
       "  <tbody>\n",
       "    <tr>\n",
       "      <th>0</th>\n",
       "      <td>fatigue</td>\n",
       "      <td>1</td>\n",
       "      <td>2.0</td>\n",
       "      <td>1.0</td>\n",
       "    </tr>\n",
       "    <tr>\n",
       "      <th>1</th>\n",
       "      <td>vomiting</td>\n",
       "      <td>2</td>\n",
       "      <td>9.0</td>\n",
       "      <td>7.0</td>\n",
       "    </tr>\n",
       "    <tr>\n",
       "      <th>2</th>\n",
       "      <td>high_fever</td>\n",
       "      <td>3</td>\n",
       "      <td>6.0</td>\n",
       "      <td>3.0</td>\n",
       "    </tr>\n",
       "    <tr>\n",
       "      <th>3</th>\n",
       "      <td>loss_of_appetite</td>\n",
       "      <td>4</td>\n",
       "      <td>13.0</td>\n",
       "      <td>9.0</td>\n",
       "    </tr>\n",
       "    <tr>\n",
       "      <th>4</th>\n",
       "      <td>headache</td>\n",
       "      <td>5</td>\n",
       "      <td>19.0</td>\n",
       "      <td>14.0</td>\n",
       "    </tr>\n",
       "  </tbody>\n",
       "</table>\n",
       "</div>"
      ],
      "text/plain": [
       "            Feature  Rank  RF Rank  Rank_Difference\n",
       "0           fatigue     1      2.0              1.0\n",
       "1          vomiting     2      9.0              7.0\n",
       "2        high_fever     3      6.0              3.0\n",
       "3  loss_of_appetite     4     13.0              9.0\n",
       "4          headache     5     19.0             14.0"
      ]
     },
     "execution_count": 131,
     "metadata": {},
     "output_type": "execute_result"
    }
   ],
   "source": [
    "# Differences in rankings between RF and SVC\n",
    "merged_df = pd.merge(features_df, features_rf_ranked, on=\"Feature\", suffixes=('_RFE', '_RF'))\n",
    "merged_df['Rank_Difference'] = (merged_df['Rank'] - merged_df['RF Rank']).abs()\n",
    "\n",
    "merged_df.head()"
   ]
  },
  {
   "cell_type": "code",
   "execution_count": 132,
   "metadata": {},
   "outputs": [
    {
     "data": {
      "image/png": "[encoded data removed]",
      "text/plain": [
       "<Figure size 1200x800 with 1 Axes>"
      ]
     },
     "metadata": {},
     "output_type": "display_data"
    }
   ],
   "source": [
    "# Plotting the comparison of RFE and RF rankings aggregated\n",
    "plt.figure(figsize=(12, 8))\n",
    "bar_width = 0.35\n",
    "index = range(len(merged_df))\n",
    "\n",
    "# Plot RFE ranks\n",
    "plt.bar(index, merged_df['Rank'], bar_width, label='SVC Rank')\n",
    "\n",
    "# Plot RF ranks\n",
    "plt.bar([i + bar_width for i in index], merged_df['RF Rank'], bar_width, label='RF Rank')\n",
    "\n",
    "plt.xlabel('Feature')\n",
    "plt.ylabel('Rank')\n",
    "plt.title('Comparison of RFE Rank and RF Rank for Each Feature')\n",
    "plt.xticks([i + bar_width / 2 for i in index], merged_df['Feature'], rotation=90)\n",
    "plt.legend()\n",
    "\n",
    "\n",
    "plt.tight_layout()\n",
    "plt.show()"
   ]
  },
  {
   "cell_type": "code",
   "execution_count": 133,
   "metadata": {},
   "outputs": [
    {
     "data": {
      "image/png": "[encoded data removed]",
      "text/plain": [
       "<Figure size 1000x600 with 1 Axes>"
      ]
     },
     "metadata": {},
     "output_type": "display_data"
    }
   ],
   "source": [
    "# Top differences in ranking as an absolute value\n",
    "merged_df['Rank_Difference'] = (merged_df['Rank'] - merged_df['RF Rank']).abs()\n",
    "\n",
    "top_10_df = merged_df.nlargest(10, 'Rank_Difference')\n",
    "\n",
    "plt.figure(figsize=(10, 6))\n",
    "plt.bar(top_10_df['Feature'], top_10_df['Rank_Difference'], color='red')\n",
    "\n",
    "plt.xlabel('Feature')\n",
    "plt.ylabel('Rank Difference')\n",
    "plt.title('Top 10 Largest Rank Differences for Each Feature')\n",
    "plt.xticks(rotation=90)  \n",
    "\n",
    "plt.tight_layout()\n",
    "plt.show()\n"
   ]
  }
 ],
 "metadata": {
  "kernelspec": {
   "display_name": "notebook",
   "language": "python",
   "name": "python3"
  },
  "language_info": {
   "codemirror_mode": {
    "name": "ipython",
    "version": 3
   },
   "file_extension": ".py",
   "mimetype": "text/x-python",
   "name": "python",
   "nbconvert_exporter": "python",
   "pygments_lexer": "ipython3",
   "version": "3.11.9"
  }
 },
 "nbformat": 4,
 "nbformat_minor": 2
}
